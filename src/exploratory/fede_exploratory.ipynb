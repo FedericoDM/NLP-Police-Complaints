{
 "cells": [
  {
   "cell_type": "markdown",
   "metadata": {},
   "source": [
    "## Exploratory Analysis for Police Summary Reports"
   ]
  },
  {
   "cell_type": "markdown",
   "metadata": {},
   "source": [
    "### Packages"
   ]
  },
  {
   "cell_type": "code",
   "execution_count": 11,
   "metadata": {},
   "outputs": [],
   "source": [
    "# pip install transformers\n",
    "# !pip install nltk"
   ]
  },
  {
   "cell_type": "code",
   "execution_count": 1,
   "metadata": {},
   "outputs": [
    {
     "name": "stderr",
     "output_type": "stream",
     "text": [
      "c:\\Users\\fdmol\\AppData\\Local\\Programs\\Python\\Python39\\lib\\site-packages\\numpy\\_distributor_init.py:30: UserWarning: loaded more than 1 DLL from .libs:\n",
      "c:\\Users\\fdmol\\AppData\\Local\\Programs\\Python\\Python39\\lib\\site-packages\\numpy\\.libs\\libopenblas.WCDJNK7YVMPZQ2ME2ZZHJJRJ3JIKNDB7.gfortran-win_amd64.dll\n",
      "c:\\Users\\fdmol\\AppData\\Local\\Programs\\Python\\Python39\\lib\\site-packages\\numpy\\.libs\\libopenblas64__v0.3.23-246-g3d31191b-gcc_10_3_0.dll\n",
      "  warnings.warn(\"loaded more than 1 DLL from .libs:\"\n",
      "[nltk_data] Downloading package stopwords to\n",
      "[nltk_data]     C:\\Users\\fdmol\\AppData\\Roaming\\nltk_data...\n",
      "[nltk_data]   Package stopwords is already up-to-date!\n",
      "[nltk_data] Downloading package wordnet to\n",
      "[nltk_data]     C:\\Users\\fdmol\\AppData\\Roaming\\nltk_data...\n",
      "[nltk_data]   Package wordnet is already up-to-date!\n"
     ]
    }
   ],
   "source": [
    "import os\n",
    "import random\n",
    "from transformers import AutoModelForSeq2SeqLM, AutoTokenizer\n",
    "import pandas as pd\n",
    "\n",
    "# Local imports\n",
    "from text_parser import TextParser"
   ]
  },
  {
   "cell_type": "markdown",
   "metadata": {},
   "source": [
    "### Parameters"
   ]
  },
  {
   "cell_type": "code",
   "execution_count": 2,
   "metadata": {},
   "outputs": [],
   "source": [
    "PATH = \"C:/Users/fdmol/Desktop/MSCAPP/CAPP30255/NLP-Police-Complaints/data/text_files\"\n",
    "DATA_PATH = \"C:/Users/fdmol/Desktop/MSCAPP/CAPP30255/NLP-Police-Complaints/data\""
   ]
  },
  {
   "cell_type": "markdown",
   "metadata": {},
   "source": [
    "#### Functions\n",
    "\n",
    "I define a class for reading and processing the data, I took some ideas from Matt's analysis to remove headers and other elements that are not relevant to us. This could also help in getting better results for the summarization task."
   ]
  },
  {
   "cell_type": "markdown",
   "metadata": {},
   "source": [
    "The function below wraps HuggingFace's tokenizer and model to generate a summary for each complaint. As I mention below, I tweaked the parameters to get better summaries."
   ]
  },
  {
   "cell_type": "code",
   "execution_count": 3,
   "metadata": {},
   "outputs": [],
   "source": [
    "class Summarizer:\n",
    "    \"\"\"\n",
    "    This class is in charge of summarizing a given text using\n",
    "    any Hugging Face model\n",
    "    \"\"\"\n",
    "\n",
    "    BART_INPUT_SIZE = 1024\n",
    "\n",
    "    def __init__(self, model_name: str, complaint_text: str, input_size: int = 2048):\n",
    "        self.model_name = model_name\n",
    "        self.complaint_text = complaint_text\n",
    "        self.input_size = input_size\n",
    "\n",
    "        self.model = AutoModelForSeq2SeqLM.from_pretrained(model_name)\n",
    "        self.tokenizer = AutoTokenizer.from_pretrained(model_name)\n",
    "\n",
    "        if self.model_name == \"facebook/bart-large-cnn\":\n",
    "            self.inputs = self.tokenizer(\n",
    "                self.complaint_text,\n",
    "                return_tensors=\"pt\",\n",
    "                max_length=self.BART_INPUT_SIZE,\n",
    "                truncation=True,\n",
    "            )\n",
    "\n",
    "        else:\n",
    "            self.inputs = self.tokenizer(\n",
    "                self.complaint_text,\n",
    "                return_tensors=\"pt\",\n",
    "                max_length=self.input_size,\n",
    "                truncation=True,\n",
    "            )\n",
    "\n",
    "    def generate_summary(\n",
    "        self,\n",
    "        max_length: int = 1200,\n",
    "        min_length: int = 40,\n",
    "        length_penalty: float = 2.0,\n",
    "        no_repeat_ngram_size: int = 2,\n",
    "        num_beams: int = 4,\n",
    "        early_stopping: bool = True,\n",
    "    ):\n",
    "        \"\"\"\n",
    "        This function will generate the summary\n",
    "        \"\"\"\n",
    "\n",
    "        # Generate summary\n",
    "        summary_ids = self.model.generate(\n",
    "            self.inputs[\"input_ids\"],\n",
    "            max_length=max_length,\n",
    "            min_length=min_length,\n",
    "            length_penalty=length_penalty,\n",
    "            no_repeat_ngram_size=no_repeat_ngram_size,\n",
    "            num_beams=num_beams,\n",
    "            early_stopping=early_stopping,\n",
    "        )\n",
    "\n",
    "        # Decode and print the summary\n",
    "        summary = self.tokenizer.decode(summary_ids[0], skip_special_tokens=True)\n",
    "\n",
    "        return summary"
   ]
  },
  {
   "cell_type": "markdown",
   "metadata": {},
   "source": [
    "#### Using default function to test out some models"
   ]
  },
  {
   "cell_type": "code",
   "execution_count": 4,
   "metadata": {},
   "outputs": [],
   "source": [
    "def generate_summary(complaint_text, model_name):\n",
    "    \"\"\"\n",
    "    Generates a summary of a complaint given\n",
    "    the complaint text\n",
    "    \"\"\"\n",
    "\n",
    "    tokenizer = AutoTokenizer.from_pretrained(model_name)\n",
    "    model = AutoModelForSeq2SeqLM.from_pretrained(model_name)\n",
    "\n",
    "    # Tokenize the text\n",
    "\n",
    "    if model_name == \"facebook/bart-large-cnn\":\n",
    "        inputs = tokenizer(\n",
    "            complaint_text, return_tensors=\"pt\", max_length=1024, truncation=True\n",
    "        )\n",
    "\n",
    "    else:\n",
    "        inputs = tokenizer(\n",
    "            complaint_text, return_tensors=\"pt\", max_length=2048, truncation=True\n",
    "        )\n",
    "\n",
    "    # Generate summary\n",
    "    summary_ids = model.generate(\n",
    "        inputs[\"input_ids\"],\n",
    "        max_length=1200,\n",
    "        min_length=40,\n",
    "        length_penalty=2.0,\n",
    "        no_repeat_ngram_size=2,\n",
    "        num_beams=4,\n",
    "        early_stopping=True,\n",
    "    )\n",
    "\n",
    "    # Decode and print the summary\n",
    "    summary = tokenizer.decode(summary_ids[0], skip_special_tokens=True)\n",
    "\n",
    "    return summary"
   ]
  },
  {
   "cell_type": "markdown",
   "metadata": {},
   "source": [
    "#### NLP Task: Summarization\n",
    "\n",
    "I will use the following models:\n",
    "\n",
    "- https://huggingface.co/docs/transformers/main/en/model_doc/t5#transformers.T5ForConditionalGeneration\n",
    "- https://huggingface.co/facebook/bart-large-cnn\n",
    "- https://huggingface.co/google/flan-t5-large\n",
    "\n",
    "\n",
    "In the cells below, I use the model to generate a summary for ten random complaints. The summaries are of medium quality, depending on each complaint. \n",
    "\n",
    "I did the following to try to improve the quality of the summaries:\n",
    "\n",
    "- Adjuster the `max_length` parameter to limit the length of the summary\n",
    "- Adjusted the `min_length` parameter to ensure the summary is at least a certain length\n",
    "- Adjusted the `num_beams` parameter to increase the number of beams used in beam search\n",
    "- Adjusted `no_repeat_ngram_size` parameter to avoid repeating n-grams in the summary\n",
    "\n",
    "I also experimented with the max_length of the tokens used in the tokenizer."
   ]
  },
  {
   "cell_type": "code",
   "execution_count": 5,
   "metadata": {},
   "outputs": [
    {
     "name": "stdout",
     "output_type": "stream",
     "text": [
      "Initializing parsers for summarization\n"
     ]
    }
   ],
   "source": [
    "model_name_falcon = \"Falconsai/text_summarization\"\n",
    "model_name_bart = \"facebook/bart-large-cnn\"\n",
    "model_name_flan = \"google/flan-t5-large\"\n",
    "\n",
    "text_parser = TextParser(PATH, nlp_task=\"summarization\")\n",
    "\n",
    "# Get a random list of 10 complaints\n",
    "complaints = os.listdir(PATH)\n",
    "complaints = [complaint for complaint in complaints if complaint.endswith(\".txt\")]\n",
    "sample_complaints = random.sample(complaints, 5)"
   ]
  },
  {
   "cell_type": "markdown",
   "metadata": {},
   "source": [
    "### Let us compare the three models to see which one is the best for our task.\n",
    "\n",
    "We will generate the summaries for 5 random complaints and compare the results."
   ]
  },
  {
   "cell_type": "code",
   "execution_count": 6,
   "metadata": {},
   "outputs": [
    {
     "name": "stdout",
     "output_type": "stream",
     "text": [
      "Model: Falconsai/text_summarization\n",
      "Complaint: 2015-1073745.txt\n",
      "=====================================\n",
      "Summary: officer a, #xxxx:1.took complainant’s coat and refused to return it, in violation of rule 2;2. ipra closed the case.complainant said that she didn’t remember being slammed to the floor, but she did not remember it.\n",
      "\n",
      "Model: facebook/bart-large-cnn\n",
      "Summary: complainant alleged that on february 10, 2015, officer a “slammed” her on the floor andscratched her hand during a domestic argument. when asked to provide an affidavit, complainantdeclined to cooperate with ipra’s investigation. given that there was insufficient evidence to justify arequest for a affidavit override, ipRA closed the case.\n",
      "\n",
      "Model: google/flan-t5-large\n",
      "Summary: introductioncomplainant alleged that on february 10, 2015, officer a “slammed” her on the floor andscratched her hand duringa domestic argument. when asked to provide an affidavit, complainantdeclined to cooperate with ipra’s investigation. given that there was insufficient evidence to justifyaquest for an override, oemc closed the case.  g.o.8.ll.b.2.awhen incidents regarding allegations of misconduct subject to the log number process are received, thesupervisor or commanding officer who first received information of thealleged misconduct will report theinformation to icpra by telephone within one (1) hour after the information is received. If the notificationoccurs during non-business hours (2300 – 0700), members will contact the crime prevention informationcenter (cpic).\n",
      "\n",
      "Model: Falconsai/text_summarization\n",
      "Complaint: 1078179.txt\n",
      "=====================================\n",
      "Summary: officer a allegedly grabbed subject 1 by the throat and slammed him in the jaw. civilian 1 then punched civilian 2 and said that he “will fucking kill” subject 1, in violation of rules 8 and 9. It is alleged that officer A abused profane language toward him despite attempts by copa investigators, subject 1. in particular, police b stated that on the night of october 31, 2014, officer 1 was arguing with civil 1 and civilian 1, who refused to\n",
      "\n",
      "Model: facebook/bart-large-cnn\n",
      "Summary: The complaint was filed in federal court on November 1, 2014. The complaint alleges that officer a used excessive force against him. It is also alleged that the officer's partner, officer b, failed to intervene.\n",
      "\n",
      "Model: google/flan-t5-large\n",
      "Summary: civilian 1 was a common friend of the complainant, subject 1 and his partner, civilian 2, who joined them at the party and attended the halloween party. the group proceeded to...\n",
      "\n",
      "Model: Falconsai/text_summarization\n",
      "Complaint: 2020-0001524.txt\n",
      "=====================================\n",
      "Summary: Officer joseph vecchio threw and kicked cell phone and vacuum cleaner on april 9, 2020, at approximately 6:00 p.m. at or near chicago, il. officer jo sephe v. ii. rules 1: engaging in any unjust ified verbal or physical altercation with any person, while on or off duty. rule 8: disrespect to or maltreatment of anyone, whilst on the duty, or brings discredit upon the\n",
      "\n",
      "Model: facebook/bart-large-cnn\n",
      "Summary: Officer joseph vecchio, star # 14469, date of appointment : october 16, 2019, police officer, unit of assignment : 006, dob :, 1995, male, white. involved individual #1: doB:, 1991, female, white involvedindividual #2: male iii. allegations officer allegation finding officer josphvecchio. copa finds the allegations against officer Vecchio to be sustained in part.\n",
      "\n",
      "Model: google/flan-t5-large\n",
      "Summary: cried because even though he was mean to her, she still cared about him. she further related that officer vecchio believed that she was calling him from a private phone number, and she blocked him on instagram and snapchat. the affidavit override was obtained\n",
      "\n",
      "Model: Falconsai/text_summarization\n",
      "Complaint: 2021-0002637.txt\n",
      "=====================================\n",
      "Summary: officer craig fagan, star# 4971, 2nd district, and his partner, accused officer joseph scotoni of a battery that just happened on july 19, 2020. cpd found recommendation sergeant ruvalcaba it is alleged that on or around 4:00 p.m., at or near, you: 1. inattention to duty by failure to conduct an investigation into the conduct. sustained/ 90-day suspension 2. incompetency or\n",
      "\n",
      "Model: facebook/bart-large-cnn\n",
      "Summary: Officers craig fagan, star# 4971, and joseph scotoni, (“officer sctoni”), star #7619, both assigned to the 2nd district, responded to on a battery that just happened. The officers went to talk with the involved parties to de -escalate the situation. Officer scottoni placed his right index finger between the door and th e door jamb whereupon the tip of the finger was cut off. a civil suit was filed in the incident on june 10, 2021.\n",
      "\n",
      "Model: google/flan-t5-large\n",
      "Summary: officer scotoni to call for a police ambulance instead, as he was unable to de -escalate the situation and was not willing to talk to the unidentified female\n",
      "\n",
      "Model: Falconsai/text_summarization\n",
      "Complaint: 1087224.txt\n",
      "=====================================\n",
      "Summary: officer a hit subject 1 about three times with closed fist on the head, causing him to lose consciousness. unfounded 2. engaged in an unjustified verbal altercation with officer 1 by grabbing his collar. fabricated police reports to justify the use of excessive force against subject 1, in violation of rule 6 : prohibits disobedience of an order or directive, whether written or oral.\n",
      "\n",
      "Model: facebook/bart-large-cnn\n",
      "Summary: After interviewing the complainant, the accused officers and witness officers, all allegations were unfounded. The investigation found officer a engaged in an unjustified verbal altercation with subject 1 by calling him words to the effect of a “little bitch.” Officer a then hit subject1 about three times with a closed fist on the head, causing him to lose consciousness. Detective a fabricated police reports to statesubject 1 was intoxicated during his arrest.\n",
      "\n",
      "Model: google/flan-t5-large\n",
      "Summary: was present at court when subject 1 testified. officer b stated that on november 23, 2015, he was in an unmarked suv and partnered with a police officer who was on routine patrol near xxx s. springfield and saw subject 1, on the sidewalk, facing northbound. the officer exited the car w hile i r eading subject1 ’s attention. subject 0 turned towards officer 1 and approached him before rushing at the op erator and “yelling obscenities.” subject 2 struck officer 2 and tried to continue hitting subject 2, who responded by blocking the blows causing injury to the officers’ right pinky finger.  the use of force model referenced in the report was the effective policy from may 2012 until OCtober 2017 (see att. 51).\n",
      "\n"
     ]
    }
   ],
   "source": [
    "for complaint in sample_complaints:\n",
    "    complaint_text = text_parser.file_to_string(complaint)\n",
    "    print(f\"Model: {model_name_falcon}\")\n",
    "    summary = generate_summary(complaint_text, model_name_falcon)\n",
    "    print(f\"Complaint: {complaint}\")\n",
    "    print(\"=====================================\")\n",
    "    print(f\"Summary: {summary}\\n\")\n",
    "\n",
    "    print(f\"Model: {model_name_bart}\")\n",
    "    summary = generate_summary(complaint_text, model_name_bart)\n",
    "    print(f\"Summary: {summary}\\n\")\n",
    "\n",
    "    print(f\"Model: {model_name_flan}\")\n",
    "    summary = generate_summary(complaint_text, model_name_flan)\n",
    "    print(f\"Summary: {summary}\\n\")"
   ]
  },
  {
   "cell_type": "markdown",
   "metadata": {},
   "source": [
    "We can see that the best performing models are BART Large by Facebook and the T5 FalconAI Model, we will use this model to generate the summaries for the entire dataset. The hyperparameters used are:\n",
    "\n",
    "``` Python\n",
    "max_length=1200,\n",
    "min_length=40,\n",
    "length_penalty=2.0,\n",
    "no_repeat_ngram_size=2,\n",
    "num_beams=4,\n",
    "early_stopping=True,\n",
    "```"
   ]
  },
  {
   "cell_type": "markdown",
   "metadata": {},
   "source": [
    "### Grid Search for Facebook BART model"
   ]
  },
  {
   "cell_type": "code",
   "execution_count": 18,
   "metadata": {},
   "outputs": [
    {
     "name": "stdout",
     "output_type": "stream",
     "text": [
      "Complaint: 2019-0002625.txt\n",
      "=====================================\n",
      " ============== No Repeat Ngram Size: 2 ============\n",
      "Num Beams: 3\n",
      "Summary: The incident occurred on July 11, 2019 at approximately 10:20 p.m. in the home of officer charles sykes. The wife called 911 for police assistance and reported her husband had attacked her and was under the influence of alcohol. copa obtained an affidavit override from the chicago police department to proceed with this investigation.\n",
      "\n",
      "Num Beams: 4\n",
      "Summary: Officer charles sykes and sergeant dennis graber engaged in a verbal altercation that turned physical in that she was pushed to the ground. copa obtained an affidavit override from the chicago police department in order to proceed with this investigation. It is alleged that the accused was intoxicated while off-duty in violation of rule 15.\n",
      "\n",
      "Num Beams: 5\n",
      "Summary: Officer charles sykes and sergeant dennis graber engaged in a verbal altercation that turned physical in that she was pushed to the ground. copa obtained an affidavit override from the chicago police department in order to proceed with this investigation. It is alleged that the accused was intoxicated while off-duty in violation of rule 15.\n",
      "\n",
      " ============== No Repeat Ngram Size: 3 ============\n",
      "Num Beams: 3\n",
      "Summary: The incident occurred on July 11, 2019 at approximately 10:20 p.m. in the home of officer charles sykes. sykes' wife called 911 and reported her husband was under the influence of alcohol and attacked her. copa obtained an affidavit override from the chicago police department in order to proceed with this investigation.\n",
      "\n",
      "Num Beams: 4\n",
      "Summary: Officer charles sykes and sergeant dennis graber engaged in a verbal altercation that turned physical in that she was pushed to the ground. copa was unable to obtain the cooperation of therefore, copa obtained an affidavit override from the chicago police department in order to proceed with this investigation.\n",
      "\n",
      "Num Beams: 5\n",
      "Summary: Officer charles sykes and sergeant dennis graber engaged in a verbal altercation that turned physical in that she was pushed to the ground. officer sykes spoke with sgt. graber who later allowed him to leave the residence for the night. copa was unable to obtain the cooperation of therefore, copa obtained an affidavit override.\n",
      "\n",
      " ============== No Repeat Ngram Size: 4 ============\n",
      "Num Beams: 3\n",
      "Summary: The incident occurred on July 11, 2019 at approximately 10:20 p.m. in the home of officer charles sykes. sykes' wife called 911 and reported her husband was under the influence of alcohol and had attacked her. copa obtained an affidavit override from the chicago police department in order to proceed with this investigation.\n",
      "\n",
      "Num Beams: 4\n",
      "Summary: Officer charles sykes and sergeant dennis graber engaged in a verbal altercation that turned physical in that she was pushed to the ground. copa was unable to obtain the cooperation of therefore, copa obtained an affidavit override from the chicago police department in order to proceed with this investigation.\n",
      "\n",
      "Num Beams: 5\n",
      "Summary: Officer charles sykes and sergeant dennis graber engaged in a verbal altercation that turned physical in that she was pushed to the ground. officer sykes spoke with sgt. graber who later allowed him to leave the residence for the night. copa was unable to obtain the cooperation of therefore, copa obtained an affidavit override from the chicago police department.\n",
      "\n"
     ]
    }
   ],
   "source": [
    "# We will now perform the same task using the Summarizer class, chaning some of the parameters\n",
    "no_repeat_ngram_sizes = [2, 3, 4]\n",
    "num_beams = [3, 4, 5]\n",
    "\n",
    "sample_complaints = random.sample(complaints, 1)\n",
    "\n",
    "for complaint in sample_complaints:\n",
    "    complaint_text = text_parser.file_to_string(complaint)\n",
    "    print(f\"Complaint: {complaint}\")\n",
    "    print(\"=====================================\")\n",
    "    for no_repeat_ngram_size in no_repeat_ngram_sizes:\n",
    "        print(\n",
    "            f\" ============== No Repeat Ngram Size: {no_repeat_ngram_size} ============\"\n",
    "        )\n",
    "        for num_beam in num_beams:\n",
    "            print(f\"Num Beams: {num_beam}\")\n",
    "            summary = Summarizer(model_name_bart, complaint_text).generate_summary(\n",
    "                max_length=1200,\n",
    "                min_length=40,\n",
    "                length_penalty=2,\n",
    "                no_repeat_ngram_size=no_repeat_ngram_size,\n",
    "                num_beams=num_beam,\n",
    "            )\n",
    "            print(f\"Summary: {summary}\\n\")"
   ]
  },
  {
   "cell_type": "markdown",
   "metadata": {},
   "source": [
    "### Grid Search for Falcon T5 model"
   ]
  },
  {
   "cell_type": "code",
   "execution_count": 19,
   "metadata": {},
   "outputs": [
    {
     "name": "stdout",
     "output_type": "stream",
     "text": [
      "Complaint: 2019-0002625.txt\n",
      "=====================================\n",
      " ============== No Repeat Ngram Size: 2 ============\n",
      "Num Beams: 3\n",
      "Summary: officer unit of assignment 116, dob: 1976 gender: male, race: black, black 1 ii. allegations officer allegation finding / recommendation charles sykes sergeant dennis graber 1. it is alleged that on or about july 11, 2019 at or near the location of chicago, il, the accused was intoxicated and allowed him to operate a motor vehicle in violation of rule 3 & 6. 6. e.g. he failed to protect/preser\n",
      "\n",
      "Num Beams: 4\n",
      "Summary: officer unit of assignment 116, dob: 1976 gender: male, race: black, black 1 ii. allegations officer allegation finding / recommendation charles sykes sergeant dennis graber 1. it is alleged that on or about july 11, 2019 at or near the location of chicago, il, the accused was intoxicated and allowed him to operate a motor vehicle in violation of rule 3 & 6. 4. he failed to provide adequate police service in his interaction with involved\n",
      "\n",
      "Num Beams: 5\n",
      "Summary: officer unit of assignment 116, dob: 1976 gender: male, race: black, black 1 ii. allegations officer allegation finding / recommendation charles sykes sergeant dennis graber 1. it is alleged that on or about july 11, 2019 at or near the location of chicago, il, the accused was intoxicated and allowed him to operate a motor vehicle in violation of rule 3 & 6. 6. e.g. copa was unable to obtain the\n",
      "\n",
      " ============== No Repeat Ngram Size: 3 ============\n",
      "Num Beams: 3\n",
      "Summary: officer unit of assignment 116, dob: 1976 gender: male, race: white dob, 1968, gender: female, race : black 1 iii. it is alleged that on or about july 11, 2019 at or near the location of chicago, il at approximately 10:10 p.m. the accused failed to provide adequate police service in his interaction with involved parties in violation of rule 3 & 6. iv. rules rule 2- any action or conduct which impedes the department\n",
      "\n",
      "Num Beams: 4\n",
      "Summary: officer unit of assignment 008, dob: 1976 gender: male, race: white dob, 1968 gender: female, race : black 1 iii. it is alleged that on or about july 11, 2019 at or near the location of chicago, il at approximately 10:10 p.m. copa was unable to obtain the cooperation of therefore, copa obtained an affidavit override from the department in order to proceed with this investigation.\n",
      "\n",
      "Num Beams: 5\n",
      "Summary: officer unit of assignment 116, dob: 1976 gender: male, race: black: black 1 iii. allegations officer allegation finding / recommendation charles sykes sergeant dennis graber 1. it is alleged that on or about july 11, 2019 at or near the location of chicago, il, the accused was intoxicated and allowed him to operate a motor vehicle in violation of rule 3 & 6. 4. it is claimed that sgt. graber failed\n",
      "\n",
      " ============== No Repeat Ngram Size: 4 ============\n",
      "Num Beams: 3\n",
      "Summary: officer unit of assignment 116, dob: 1976 gender: male, race: white dob: 1968, gender: female, race: black 1 iii. allegations officer allegation finding / recommendation charles sykes sergeant dennis graber 1. it is alleged that on or about july 11, 2019 at or near the location of chicago, il, the accused was intoxicated and allowed him to operate a motor vehicle in violation of rule 3 & 6. it is \n",
      "\n",
      "Num Beams: 4\n",
      "Summary: officer unit of assignment 116, dob: 1976 gender: male, race: white dob: 1968, gender: female, race: black 1 iii. allegations officer allegation finding / recommendation charles sykes sergeant dennis graber 1. it is alleged that on or about july 11, 2019 at or near the location of chicago, il, the accused was intoxicated and allowed him to operate a motor vehicle in violation of rule 3 & 6. it is \n",
      "\n",
      "Num Beams: 5\n",
      "Summary: officer unit of assignment 116, dob: 1976 gender: male, race: white dob: 1968, gender: female, race: black 1 iii. it is alleged that on or about july 11, 2019 at or near the location of chicago, il at approximately 10:10 p.m. the accused failed to protect/preserve evidence of a domestic related incident in violation of rule 3 & 6. 4. iv. rules rule 2- any action or conduct which impedes the\n",
      "\n"
     ]
    }
   ],
   "source": [
    "for complaint in sample_complaints:\n",
    "    complaint_text = text_parser.file_to_string(complaint)\n",
    "    print(f\"Complaint: {complaint}\")\n",
    "    print(\"=====================================\")\n",
    "    for no_repeat_ngram_size in no_repeat_ngram_sizes:\n",
    "        print(\n",
    "            f\" ============== No Repeat Ngram Size: {no_repeat_ngram_size} ============\"\n",
    "        )\n",
    "        for num_beam in num_beams:\n",
    "            print(f\"Num Beams: {num_beam}\")\n",
    "            summary = Summarizer(model_name_falcon, complaint_text).generate_summary(\n",
    "                max_length=1200,\n",
    "                min_length=40,\n",
    "                length_penalty=2,\n",
    "                no_repeat_ngram_size=no_repeat_ngram_size,\n",
    "                num_beams=num_beam,\n",
    "            )\n",
    "            print(f\"Summary: {summary}\\n\")"
   ]
  },
  {
   "cell_type": "markdown",
   "metadata": {},
   "source": [
    "### Next Steps\n",
    "\n",
    "- Finetune models to improve the quality of the summaries\n",
    "- Probably cross reference the summaries with the topic modeling results to see if the summaries are coherent with the topics"
   ]
  },
  {
   "cell_type": "code",
   "execution_count": 20,
   "metadata": {},
   "outputs": [],
   "source": [
    "# Random list of 25 complaints to summarize by hand\n",
    "complaints_to_summarize = random.sample(complaints, 25)\n",
    "complaints_to_summarize\n",
    "\n",
    "# Create a dataframe to store the results\n",
    "manual_summaries = pd.DataFrame([])\n",
    "manual_summaries.loc[:, \"complaint\"] = complaints_to_summarize\n",
    "manual_summaries.loc[:, \"manual_summary\"] = \"\"\n",
    "\n",
    "# Save the dataframe\n",
    "\n",
    "# manual_summaries.to_csv(f\"{DATA_PATH}/complaints_to_summarize.csv\", index=False)"
   ]
  }
 ],
 "metadata": {
  "kernelspec": {
   "display_name": ".venv",
   "language": "python",
   "name": "python3"
  },
  "language_info": {
   "codemirror_mode": {
    "name": "ipython",
    "version": 3
   },
   "file_extension": ".py",
   "mimetype": "text/x-python",
   "name": "python",
   "nbconvert_exporter": "python",
   "pygments_lexer": "ipython3",
   "version": "3.9.2"
  }
 },
 "nbformat": 4,
 "nbformat_minor": 2
}

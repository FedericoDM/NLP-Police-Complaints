{
 "cells": [
  {
   "cell_type": "markdown",
   "metadata": {},
   "source": [
    "## Exploratory Analysis for Police Summary Reports"
   ]
  },
  {
   "cell_type": "markdown",
   "metadata": {},
   "source": [
    "### Packages"
   ]
  },
  {
   "cell_type": "code",
   "execution_count": 2,
   "metadata": {},
   "outputs": [],
   "source": [
    "# pip install transformers\n",
    "# !pip install nltk"
   ]
  },
  {
   "cell_type": "code",
   "execution_count": 3,
   "metadata": {},
   "outputs": [
    {
     "name": "stderr",
     "output_type": "stream",
     "text": [
      "c:\\Users\\fdmol\\Desktop\\MSCAPP\\CAPP30255\\.venv\\Lib\\site-packages\\tqdm\\auto.py:21: TqdmWarning: IProgress not found. Please update jupyter and ipywidgets. See https://ipywidgets.readthedocs.io/en/stable/user_install.html\n",
      "  from .autonotebook import tqdm as notebook_tqdm\n",
      "[nltk_data] Downloading package stopwords to\n",
      "[nltk_data]     C:\\Users\\fdmol\\AppData\\Roaming\\nltk_data...\n",
      "[nltk_data]   Package stopwords is already up-to-date!\n",
      "[nltk_data] Downloading package wordnet to\n",
      "[nltk_data]     C:\\Users\\fdmol\\AppData\\Roaming\\nltk_data...\n",
      "[nltk_data]   Package wordnet is already up-to-date!\n"
     ]
    }
   ],
   "source": [
    "import os\n",
    "import random\n",
    "from transformers import AutoModelForSeq2SeqLM, AutoTokenizer\n",
    "\n",
    "# Local imports\n",
    "from text_parser import TextParser"
   ]
  },
  {
   "cell_type": "markdown",
   "metadata": {},
   "source": [
    "### Parameters"
   ]
  },
  {
   "cell_type": "code",
   "execution_count": 4,
   "metadata": {},
   "outputs": [],
   "source": [
    "PATH = \"C:/Users/fdmol/Desktop/MSCAPP/CAPP30255/NLP-Police-Complaints/data/text_files\""
   ]
  },
  {
   "cell_type": "markdown",
   "metadata": {},
   "source": [
    "#### Functions\n",
    "\n",
    "I define a class for reading and processing the data, I took some ideas from Matt's analysis to remove headers and other elements that are not relevant to us. This could also help in getting better results for the summarization task."
   ]
  },
  {
   "cell_type": "markdown",
   "metadata": {},
   "source": [
    "The function below wraps HuggingFace's tokenizer and model to generate a summary for each complaint. As I mention below, I tweaked the parameters to get better summaries."
   ]
  },
  {
   "cell_type": "code",
   "execution_count": 16,
   "metadata": {},
   "outputs": [],
   "source": [
    "def generate_summary(complaint_text, model_name):\n",
    "    \"\"\"\n",
    "    Generates a summary of a complaint given\n",
    "    the complaint text\n",
    "    \"\"\"\n",
    "\n",
    "    tokenizer = AutoTokenizer.from_pretrained(model_name)\n",
    "    model = AutoModelForSeq2SeqLM.from_pretrained(model_name)\n",
    "\n",
    "    # Tokenize the text\n",
    "\n",
    "    if model_name == \"facebook/bart-large-cnn\":\n",
    "        inputs = tokenizer(\n",
    "            complaint_text, return_tensors=\"pt\", max_length=1024, truncation=True\n",
    "        )\n",
    "\n",
    "    else:\n",
    "        inputs = tokenizer(\n",
    "            complaint_text, return_tensors=\"pt\", max_length=2048, truncation=True\n",
    "        )\n",
    "\n",
    "    # Generate summary\n",
    "    summary_ids = model.generate(\n",
    "        inputs[\"input_ids\"],\n",
    "        max_length=1200,\n",
    "        min_length=40,\n",
    "        length_penalty=2.0,\n",
    "        no_repeat_ngram_size=2,\n",
    "        num_beams=4,\n",
    "        early_stopping=True,\n",
    "    )\n",
    "\n",
    "    # Decode and print the summary\n",
    "    summary = tokenizer.decode(summary_ids[0], skip_special_tokens=True)\n",
    "\n",
    "    return summary"
   ]
  },
  {
   "cell_type": "markdown",
   "metadata": {},
   "source": [
    "#### NLP Task: Summarization\n",
    "\n",
    "I will use the following models:\n",
    "\n",
    "- https://huggingface.co/docs/transformers/main/en/model_doc/t5#transformers.T5ForConditionalGeneration\n",
    "- https://huggingface.co/facebook/bart-large-cnn\n",
    "- https://huggingface.co/google/flan-t5-large\n",
    "\n",
    "\n",
    "In the cells below, I use the model to generate a summary for ten random complaints. The summaries are of medium quality, depending on each complaint. \n",
    "\n",
    "I did the following to try to improve the quality of the summaries:\n",
    "\n",
    "- Adjuster the `max_length` parameter to limit the length of the summary\n",
    "- Adjusted the `min_length` parameter to ensure the summary is at least a certain length\n",
    "- Adjusted the `num_beams` parameter to increase the number of beams used in beam search\n",
    "- Adjusted `no_repeat_ngram_size` parameter to avoid repeating n-grams in the summary\n",
    "\n",
    "I also experimented with the max_length of the tokens used in the tokenizer."
   ]
  },
  {
   "cell_type": "code",
   "execution_count": 17,
   "metadata": {},
   "outputs": [],
   "source": [
    "model_name_falcon = \"Falconsai/text_summarization\"\n",
    "model_name_bart = \"facebook/bart-large-cnn\"\n",
    "model_name_flan = \"google/flan-t5-large\""
   ]
  },
  {
   "cell_type": "code",
   "execution_count": 18,
   "metadata": {},
   "outputs": [
    {
     "name": "stdout",
     "output_type": "stream",
     "text": [
      "Initializing parsers for summarization\n",
      "Model: Falconsai/text_summarization\n",
      "Complaint: 2019-0003463.txt\n",
      "=====================================\n",
      "Summary: officer s michael conroy, megan fleming, and cesar astorga ( collectively “the accused”) were on patr ol when they observed a pontiac. the accused continued their aggressive demeanor until they were detained in handcuffs. ii. for each allegation copa must make one of the following findings: 1. sustained - where it is determined there is insufficient evidence to prove the allegations.\n",
      "\n",
      "Model: facebook/bart-large-cnn\n",
      "Summary: Officer michael conroy, megan fleming, and cesar astorga ( collectively ‘the accused’) were on patr ol when they observed a black pontiac occupied by three males (mr. driver, front seat passenger; and mr. rear seat passengers) two of which were not wearing seatbelts. The accused conducted a traffic stop on the Pontiac, he recognized and as active gang members who both had a history of illegal weapons possession. after completing the search, the accus ed issued three citations and released the males.\n",
      "\n",
      "Model: google/flan-t5-large\n",
      "Summary: search were reasonable and proper. since the males were failing to comply with instructions to show their hands and their known history of and of weapons made their exit and detentions reasonable, proper, and reasonable\n",
      "\n",
      "Model: Falconsai/text_summarization\n",
      "Complaint: 2010-1037879.txt\n",
      "=====================================\n",
      "Summary: cpd detective 1 related that officer b was ending his tour of duty at the time that the incident occurred. witness 1 saw subject 1 walking south on racine ave and robbed witness 2 of hi s blue tool bag. witnesses 1 heard two gunshots and saw subj ect 1 walked out of the parking lot. Witness 1 lost sight of subject 1, but continued to wave his gun at officer 1 but failed to comply with their orders.\n",
      "\n",
      "Model: facebook/bart-large-cnn\n",
      "Summary: independent police review authority 31 october 2012 u# 10/ investigation number:, u #10 officers involved: “Officer a” (chicago police sergeant); male/white; 38 years old; on duty; in full uniform; year of appointment – 1997 ‘officer b’ (Chicagoland police officer); female/ white; 35 yearsold, in civilian dress. ” subject 1“;male/black; 24 years of age; shot through-and-through gunshot wound to the middle/right side of chest and middle of back. Officer c was ending his tour of duty working sp ecial duty with the targeted response unit (tru) at the former 007th district police station, located at 6120 s. racine ave., chicago, illinois 60636.\n",
      "\n",
      "Model: google/flan-t5-large\n",
      "Summary: summary of incident: on 07 july 2010, at approximately 1540 hours, chicago police department officer c was at the rear of his personal vehicle in the south park ing lot of the police station, located at 6120 s. racine ave.\n",
      "\n",
      "Model: Falconsai/text_summarization\n",
      "Complaint: 2019-0002762.txt\n",
      "=====================================\n",
      "Summary: officer thomas marshall pushed mr. inside the van and said, “i will beat your black ass to death!” he said in a statement to copa on october 23, 2019, at approximately 0220 hours at 6057 s. kedzie avenue, chicago, il 60629. officer marhall was remorseful of his actions and referred to his language as irresponsible! ii. involved parties involved officer #1\n",
      "\n",
      "Model: facebook/bart-large-cnn\n",
      "Summary: The complaint was initiated by 8th district sergeant, james desmond, #2060. It is alleged that on July 20, 2019, at approximately 0220 hours at 6057 s. kedzie avenue chicago, il 60629. officer thomas marshall committed misconduct in that he; 1. pushed arrestee inside a squadrol, sustained 1 attachment #44 at 16:40. 2. directed a racial statement toward arrestees by stating words to the effect, “i will beat your black ass to death!” 3. threatened arrestEE with great bodily har m by saying, \"i'll beat you todeath!\" 4. failed to wear and or activate his body worn camera.\n",
      "\n",
      "Model: google/flan-t5-large\n",
      "Summary: detain him in the vehicle. iv. rules 1. rule 2 : any action or conduct which impedes the department’s efforts to achieve its policy and goals or brings discredit upon the dep o rstration of any person while on or\n",
      "\n",
      "Model: Falconsai/text_summarization\n",
      "Complaint: 1092118.txt\n",
      "=====================================\n",
      "Summary: officer marvin christmon struck ms. on the face with an open hand and struck her numerous ti mes. it is alleged that on december 26, 2018, at approximately 7:10 p.m., at or near jesse owens park, located at 8800 s-clyde, the accused hit him back with a closed fist on her face. he hit her back, and she struck him again. she left the scene and decided to go to\n",
      "\n",
      "Model: facebook/bart-large-cnn\n",
      "Summary: Civilian office of poli ce accountability. involved officer #1: marvin christmon; star #18636; employee # ; doa : december 5, 1994; officer; 006; dob :, 1969; male ; black.involved individual # 1:, 1980; female; black; case type: domestic violence i. allegations officer allegation finding / recommendation officermarvinchristmon 1. it is alleged that on de December 26, 2018, at approximately 7:10 p.m., at or near jesse owens park, located at 8800 s. clyde, the accused struck on the face multiple times. not sustained. 2. It is also alleged on that same day, on December 25,2018, that. officer christMon threw her inside of the durango, pinning her down with hi s body weight. and she broke his chain with his police star emblem.\n",
      "\n",
      "Model: google/flan-t5-large\n",
      "Summary: ms. on the face and pinned her down with his body weight on december 26, 2018 at jesse owens park in clyde, texas\n",
      "\n",
      "Model: Falconsai/text_summarization\n",
      "Complaint: 2008-1016616.txt\n",
      "=====================================\n",
      "Summary: subject 1 was shot in the vicinity of 100th and 110th street on 16 may 2008. a chicago police department detective related to the roundtable panel contacted “911” and reported shots fired, but all attempts were unsuccessful. detectives from cpd attempted to contact witness 1 by telephone and personal visits were conducted in an attempt to obtain an interv iew.\n",
      "\n",
      "Model: facebook/bart-large-cnn\n",
      "Summary:  off-duty officer a was standing outside, talking with people he kne w when he heard rapid gunfire in the area. Officer a ran into an alley behind the location and heard what he believed to be gunfire. One of the black males, now known as subject 1, was holding a weapon and then turn ed towardOfficer a and fired.\n",
      "\n",
      "Model: google/flan-t5-large\n",
      "Summary: Independent police review authority public report of investigation investigation number: ; u#08 officer(s) involved: “officer a” (chicago police department officer) —male/black; 36 years old; off-duty; year of appointment— 1995 officer injuries: none reported subject(\n",
      "\n"
     ]
    }
   ],
   "source": [
    "text_parser = TextParser(PATH, nlp_task=\"summarization\")\n",
    "\n",
    "# Get a random list of 10 complaints\n",
    "complaints = os.listdir(PATH)\n",
    "complaints = [complaint for complaint in complaints if complaint.endswith(\".txt\")]\n",
    "complaints = random.sample(complaints, 5)\n",
    "\n",
    "\n",
    "for complaint in complaints:\n",
    "    complaint_text = text_parser.file_to_string(complaint)\n",
    "    print(f\"Model: {model_name_falcon}\")\n",
    "    summary = generate_summary(complaint_text, model_name_falcon)\n",
    "    print(f\"Complaint: {complaint}\")\n",
    "    print(\"=====================================\")\n",
    "    print(f\"Summary: {summary}\\n\")\n",
    "\n",
    "    print(f\"Model: {model_name_bart}\")\n",
    "    summary = generate_summary(complaint_text, model_name_bart)\n",
    "    print(f\"Summary: {summary}\\n\")\n",
    "\n",
    "    print(f\"Model: {model_name_flan}\")\n",
    "    summary = generate_summary(complaint_text, model_name_flan)\n",
    "    print(f\"Summary: {summary}\\n\")"
   ]
  },
  {
   "cell_type": "markdown",
   "metadata": {},
   "source": [
    "We can see that the best performing model is BART Large by Facebook, we will use this model to generate the summaries for the entire dataset. The hyperparameters used are:\n",
    "\n",
    "``` Python\n",
    "max_length=1200,\n",
    "min_length=40,\n",
    "length_penalty=2.0,\n",
    "no_repeat_ngram_size=2,\n",
    "num_beams=4,\n",
    "early_stopping=True,\n",
    "```"
   ]
  },
  {
   "cell_type": "markdown",
   "metadata": {},
   "source": [
    "### Next Steps\n",
    "\n",
    "- Finetune models to improve the quality of the summaries\n",
    "- Probably cross reference the summaries with the topic modeling results to see if the summaries are coherent with the topics"
   ]
  }
 ],
 "metadata": {
  "kernelspec": {
   "display_name": ".venv",
   "language": "python",
   "name": "python3"
  },
  "language_info": {
   "codemirror_mode": {
    "name": "ipython",
    "version": 3
   },
   "file_extension": ".py",
   "mimetype": "text/x-python",
   "name": "python",
   "nbconvert_exporter": "python",
   "pygments_lexer": "ipython3",
   "version": "3.9.2"
  }
 },
 "nbformat": 4,
 "nbformat_minor": 2
}

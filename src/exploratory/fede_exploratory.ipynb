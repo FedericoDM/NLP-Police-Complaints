{
 "cells": [
  {
   "cell_type": "markdown",
   "metadata": {},
   "source": [
    "## Exploratory Analysis for Police Summary Reports"
   ]
  },
  {
   "cell_type": "markdown",
   "metadata": {},
   "source": [
    "### Packages"
   ]
  },
  {
   "cell_type": "code",
   "execution_count": 2,
   "metadata": {},
   "outputs": [],
   "source": [
    "# pip install transformers\n",
    "# !pip install nltk"
   ]
  },
  {
   "cell_type": "code",
   "execution_count": 1,
   "metadata": {},
   "outputs": [
    {
     "name": "stderr",
     "output_type": "stream",
     "text": [
      "c:\\Users\\fdmol\\AppData\\Local\\Programs\\Python\\Python39\\lib\\site-packages\\numpy\\_distributor_init.py:30: UserWarning: loaded more than 1 DLL from .libs:\n",
      "c:\\Users\\fdmol\\AppData\\Local\\Programs\\Python\\Python39\\lib\\site-packages\\numpy\\.libs\\libopenblas.WCDJNK7YVMPZQ2ME2ZZHJJRJ3JIKNDB7.gfortran-win_amd64.dll\n",
      "c:\\Users\\fdmol\\AppData\\Local\\Programs\\Python\\Python39\\lib\\site-packages\\numpy\\.libs\\libopenblas64__v0.3.23-246-g3d31191b-gcc_10_3_0.dll\n",
      "  warnings.warn(\"loaded more than 1 DLL from .libs:\"\n",
      "[nltk_data] Downloading package stopwords to\n",
      "[nltk_data]     C:\\Users\\fdmol\\AppData\\Roaming\\nltk_data...\n",
      "[nltk_data]   Package stopwords is already up-to-date!\n",
      "[nltk_data] Downloading package wordnet to\n",
      "[nltk_data]     C:\\Users\\fdmol\\AppData\\Roaming\\nltk_data...\n",
      "[nltk_data]   Package wordnet is already up-to-date!\n"
     ]
    }
   ],
   "source": [
    "import os\n",
    "import random\n",
    "from transformers import AutoModelForSeq2SeqLM, AutoTokenizer\n",
    "\n",
    "# Local imports\n",
    "from text_parser import TextParser"
   ]
  },
  {
   "cell_type": "markdown",
   "metadata": {},
   "source": [
    "### Parameters"
   ]
  },
  {
   "cell_type": "code",
   "execution_count": 2,
   "metadata": {},
   "outputs": [],
   "source": [
    "PATH = \"C:/Users/fdmol/Desktop/MSCAPP/CAPP30255/NLP-Police-Complaints/data/text_files\""
   ]
  },
  {
   "cell_type": "markdown",
   "metadata": {},
   "source": [
    "#### Functions\n",
    "\n",
    "I define a class for reading and processing the data, I took some ideas from Matt's analysis to remove headers and other elements that are not relevant to us. This could also help in getting better results for the summarization task."
   ]
  },
  {
   "cell_type": "markdown",
   "metadata": {},
   "source": [
    "The function below wraps HuggingFace's tokenizer and model to generate a summary for each complaint. As I mention below, I tweaked the parameters to get better summaries."
   ]
  },
  {
   "cell_type": "code",
   "execution_count": 3,
   "metadata": {},
   "outputs": [],
   "source": [
    "def generate_summary(complaint_text, model_name):\n",
    "    \"\"\"\n",
    "    Generates a summary of a complaint given\n",
    "    the complaint text\n",
    "    \"\"\"\n",
    "\n",
    "    tokenizer = AutoTokenizer.from_pretrained(model_name)\n",
    "    model = AutoModelForSeq2SeqLM.from_pretrained(model_name)\n",
    "\n",
    "    # Tokenize the text\n",
    "\n",
    "    if model_name == \"facebook/bart-large-cnn\":\n",
    "        inputs = tokenizer(\n",
    "            complaint_text, return_tensors=\"pt\", max_length=1024, truncation=True\n",
    "        )\n",
    "\n",
    "    else:\n",
    "        inputs = tokenizer(\n",
    "            complaint_text, return_tensors=\"pt\", max_length=2048, truncation=True\n",
    "        )\n",
    "\n",
    "    # Generate summary\n",
    "    summary_ids = model.generate(\n",
    "        inputs[\"input_ids\"],\n",
    "        max_length=1200,\n",
    "        min_length=40,\n",
    "        length_penalty=2.0,\n",
    "        no_repeat_ngram_size=2,\n",
    "        num_beams=4,\n",
    "        early_stopping=True,\n",
    "    )\n",
    "\n",
    "    # Decode and print the summary\n",
    "    summary = tokenizer.decode(summary_ids[0], skip_special_tokens=True)\n",
    "\n",
    "    return summary"
   ]
  },
  {
   "cell_type": "markdown",
   "metadata": {},
   "source": [
    "#### NLP Task: Summarization\n",
    "\n",
    "I will use the following models:\n",
    "\n",
    "- https://huggingface.co/docs/transformers/main/en/model_doc/t5#transformers.T5ForConditionalGeneration\n",
    "- https://huggingface.co/facebook/bart-large-cnn\n",
    "- https://huggingface.co/google/flan-t5-large\n",
    "\n",
    "\n",
    "In the cells below, I use the model to generate a summary for ten random complaints. The summaries are of medium quality, depending on each complaint. \n",
    "\n",
    "I did the following to try to improve the quality of the summaries:\n",
    "\n",
    "- Adjuster the `max_length` parameter to limit the length of the summary\n",
    "- Adjusted the `min_length` parameter to ensure the summary is at least a certain length\n",
    "- Adjusted the `num_beams` parameter to increase the number of beams used in beam search\n",
    "- Adjusted `no_repeat_ngram_size` parameter to avoid repeating n-grams in the summary\n",
    "\n",
    "I also experimented with the max_length of the tokens used in the tokenizer."
   ]
  },
  {
   "cell_type": "code",
   "execution_count": 4,
   "metadata": {},
   "outputs": [],
   "source": [
    "model_name_falcon = \"Falconsai/text_summarization\"\n",
    "model_name_bart = \"facebook/bart-large-cnn\"\n",
    "model_name_flan = \"google/flan-t5-large\""
   ]
  },
  {
   "cell_type": "code",
   "execution_count": 5,
   "metadata": {},
   "outputs": [
    {
     "name": "stdout",
     "output_type": "stream",
     "text": [
      "Initializing parsers for summarization\n",
      "Model: Falconsai/text_summarization\n",
      "Complaint: 1085581.txt\n",
      "=====================================\n",
      "Summary: officer a was on his way to work on june 14, 2017, at approximately 6:45 am, at xxxx east 103rd street chicago, il. subject 1 related she told officera she was speeding, and she had some trouble retrieving her insurance from hervisor so she could get back in the car.subject 1 recalled that sergeanta asked her to “step away” and said, “this never should have happened.” Captain said he recognized the officer, now\n",
      "\n",
      "Model: facebook/bart-large-cnn\n",
      "Summary: Officer a, star # xxxxx, allegedly slammed subject 1’s left foot in the door of her vehicle and approached her with his hand on his firearm. Officer a told captain a that “this was a real traffic stop” and ‘not to get involved. Captain a said to officer a \"she was one of you, you don't have to do this\"\n",
      "\n",
      "Model: google/flan-t5-large\n",
      "Summary: officer b and said, “you’re not going to get a ticket. you’ve been pulled over by an ass / jerk.” captaina related subject 1 said to him, ” oh my gosh i’m talking to another officer.”\n",
      "\n",
      "Model: Falconsai/text_summarization\n",
      "Complaint: 2016-1082115.txt\n",
      "=====================================\n",
      "Summary: intoxicated in a dormitory at the chicago police department. on 04 september 2016, at 0256 hours, campus staff called and reported an 18 year-old female, the subject, who was agitated and had no memory of the events that occurred on 03september 2016. sgt.a, #xx, wasassigned to squad car awas dispatched to the location of incident, and cleared the assignment at 0320 hours.independent police review authority 24 october 2016\n",
      "\n",
      "Model: facebook/bart-large-cnn\n",
      "Summary: independent police review authority 24 october 2016summary of incidenton 04 september 2016, the subject was found to be intoxicated in a dormitory at a localcollege. campus security officers, chicago fire department personnel and ch Chicago police responded to the scene. The subject’s mother arrived on scene in. a taxi and when she learned thather daughter would be taken to hospital, she attempted to take the. subject on herown.\n",
      "\n",
      "Model: google/flan-t5-large\n",
      "Summary: independent police review authority 24 october 2016summary of incidenton 04 september 2016, the subject was found to be intoxicated in a dormitory ata localcollege. campus security officers, chicago fire department personnel andchicago police responded to the scene.\n",
      "\n",
      "Model: Falconsai/text_summarization\n",
      "Complaint: 2015-1076956.txt\n",
      "=====================================\n",
      "Summary: officer a pointed his weapon at subject 1 without justification, in violation of rule 37.2). Officer b said he was upset that an off-duty policeofficer pulled his gun out on him. cpd asked for the photograph and called 911 to report the incident. Subject 1 opined that the responding officers’ attitude and professionalism at thescene. officera was apologetic and tried to explain to the responders.\n",
      "\n",
      "Model: facebook/bart-large-cnn\n",
      "Summary: Officer a, who was off-dutyand working his part-time job as a realtor, was already inside the building at that locationbecause he had a scheduled appointment. shortly after subject 1 entered the. building, officer a pointed a weapon atsubject 1 without warning. after officer aknew that subject. 1 was aRealtor and that he was upset, he lowered and holstered his weapon.\n",
      "\n",
      "Model: google/flan-t5-large\n",
      "Summary: officer b, #xxxxdocumented that on the day of the incident, she was on duty, in uniform and assigned to beat xxx. on thisday, officerb responded to the scene of a complaint by \n",
      "\n",
      "Model: Falconsai/text_summarization\n",
      "Complaint: 2022-0003777.txt\n",
      "=====================================\n",
      "Summary: officer ryan mccallum unintentionally discharged his firearm while clearing a house from an axe.5 sgt. cano was in the hallway and said, “it was me, the door hit my gun. ”12 he immediately notified his superior, and all other notifications were made.13 1 of 6 final summary report1 on september 3, 2022, copa received crime prevention information center (cpic) notification,2 along with initiation report from sergeant (\n",
      "\n",
      "Model: facebook/bart-large-cnn\n",
      "Summary: Officer ryan mccallum unintentionally discharged his firearm while clearing a house from a subject with an axe. officer m ccallum entered a bedroom alone and open ed a closet door ; one round was discharged into t he closet.10 sgt. cano was in the hallway and said, “what was that?”\n",
      "\n",
      "Model: google/flan-t5-large\n",
      "Summary: page 1 of 6 final summary report1 on september 3, 2022, the (copa) received crime prevention information center (cpic) notification,2 along with an initiation report from sergeant (sgt.) robert sekera3 reporting alleged misconduct by a member of the chicago police department\n",
      "\n",
      "Model: Falconsai/text_summarization\n",
      "Complaint: 2013-1059373.txt\n",
      "=====================================\n",
      "Summary: robbery victim argued with [female client] about her cell phone. officer a, fearing for his life, fired approximately four rounds at th e subject, striking him. subject 1 ran westbound toward south jeffery boulevard, just south of the intersection. cpd deputy chief: “officer b” (chicago police offi cer); male/black; 44 years old; on duty; in plain clothes; year of appointment – 2003 officer injuries: none reported\n",
      "\n",
      "Model: facebook/bart-large-cnn\n",
      "Summary: Officers a and b stopped a car driven by a subject near 75th street and jeffery boulevard because the car had been involved in a vehicular hijacking. The officers then heard an office of emergency management and communications (oemc) call of a battery-in-progress near 76th Street and essex avenue. Both officers pursued th e subject on foot.\n",
      "\n",
      "Model: google/flan-t5-large\n",
      "Summary: [carjacking/robbery victim] if he was the one who had robbed the victim of her jacket, shoes, cell phone, and $40. [female client]’s brother, subj ect 2, her boyfriend, subject 3, and subject 1 entered the back seat of [c arjack ing / r obber y vic tim's] car. when [male clients] arrived and began to argue with subject 2, subject 2 grabbed subject 3 from the rear seat and punched him in the face se veral times. the men removed his shoes and $400 from his pocket. When [robery/robbing/victim] was able to get out of his car, a passing motorist and subsequently called the police.\n",
      "\n"
     ]
    }
   ],
   "source": [
    "text_parser = TextParser(PATH, nlp_task=\"summarization\")\n",
    "\n",
    "# Get a random list of 10 complaints\n",
    "complaints = os.listdir(PATH)\n",
    "complaints = [complaint for complaint in complaints if complaint.endswith(\".txt\")]\n",
    "complaints = random.sample(complaints, 5)\n",
    "\n",
    "\n",
    "for complaint in complaints:\n",
    "    complaint_text = text_parser.file_to_string(complaint)\n",
    "    print(f\"Model: {model_name_falcon}\")\n",
    "    summary = generate_summary(complaint_text, model_name_falcon)\n",
    "    print(f\"Complaint: {complaint}\")\n",
    "    print(\"=====================================\")\n",
    "    print(f\"Summary: {summary}\\n\")\n",
    "\n",
    "    print(f\"Model: {model_name_bart}\")\n",
    "    summary = generate_summary(complaint_text, model_name_bart)\n",
    "    print(f\"Summary: {summary}\\n\")\n",
    "\n",
    "    print(f\"Model: {model_name_flan}\")\n",
    "    summary = generate_summary(complaint_text, model_name_flan)\n",
    "    print(f\"Summary: {summary}\\n\")"
   ]
  },
  {
   "cell_type": "markdown",
   "metadata": {},
   "source": [
    "We can see that the best performing model is BART Large by Facebook, we will use this model to generate the summaries for the entire dataset. The hyperparameters used are:\n",
    "\n",
    "``` Python\n",
    "max_length=1200,\n",
    "min_length=40,\n",
    "length_penalty=2.0,\n",
    "no_repeat_ngram_size=2,\n",
    "num_beams=4,\n",
    "early_stopping=True,\n",
    "```"
   ]
  },
  {
   "cell_type": "markdown",
   "metadata": {},
   "source": [
    "### Next Steps\n",
    "\n",
    "- Finetune models to improve the quality of the summaries\n",
    "- Probably cross reference the summaries with the topic modeling results to see if the summaries are coherent with the topics"
   ]
  }
 ],
 "metadata": {
  "kernelspec": {
   "display_name": ".venv",
   "language": "python",
   "name": "python3"
  },
  "language_info": {
   "codemirror_mode": {
    "name": "ipython",
    "version": 3
   },
   "file_extension": ".py",
   "mimetype": "text/x-python",
   "name": "python",
   "nbconvert_exporter": "python",
   "pygments_lexer": "ipython3",
   "version": "3.9.2"
  }
 },
 "nbformat": 4,
 "nbformat_minor": 2
}

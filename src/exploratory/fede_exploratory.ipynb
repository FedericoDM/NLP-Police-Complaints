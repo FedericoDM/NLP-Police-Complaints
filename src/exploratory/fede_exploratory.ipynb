{
 "cells": [
  {
   "cell_type": "markdown",
   "metadata": {},
   "source": [
    "## Exploratory Analysis for Police Summary Reports"
   ]
  },
  {
   "cell_type": "code",
   "execution_count": 21,
   "metadata": {},
   "outputs": [
    {
     "name": "stdout",
     "output_type": "stream",
     "text": [
      "Collecting transformersNote: you may need to restart the kernel to use updated packages.\n"
     ]
    },
    {
     "name": "stderr",
     "output_type": "stream",
     "text": [
      "\n",
      "[notice] A new release of pip is available: 23.3.2 -> 24.0\n",
      "[notice] To update, run: python.exe -m pip install --upgrade pip\n"
     ]
    },
    {
     "name": "stdout",
     "output_type": "stream",
     "text": [
      "\n",
      "  Downloading transformers-4.37.2-py3-none-any.whl.metadata (129 kB)\n",
      "     ---------------------------------------- 0.0/129.4 kB ? eta -:--:--\n",
      "     ------------------------------------ - 122.9/129.4 kB 3.5 MB/s eta 0:00:01\n",
      "     -------------------------------------- 129.4/129.4 kB 2.5 MB/s eta 0:00:00\n",
      "Requirement already satisfied: filelock in c:\\users\\fdmol\\desktop\\mscapp\\capp30255\\.venv\\lib\\site-packages (from transformers) (3.13.1)\n",
      "Collecting huggingface-hub<1.0,>=0.19.3 (from transformers)\n",
      "  Downloading huggingface_hub-0.20.3-py3-none-any.whl.metadata (12 kB)\n",
      "Requirement already satisfied: numpy>=1.17 in c:\\users\\fdmol\\desktop\\mscapp\\capp30255\\.venv\\lib\\site-packages (from transformers) (1.26.3)\n",
      "Requirement already satisfied: packaging>=20.0 in c:\\users\\fdmol\\desktop\\mscapp\\capp30255\\.venv\\lib\\site-packages (from transformers) (23.2)\n",
      "Collecting pyyaml>=5.1 (from transformers)\n",
      "  Downloading PyYAML-6.0.1-cp311-cp311-win_amd64.whl.metadata (2.1 kB)\n",
      "Collecting regex!=2019.12.17 (from transformers)\n",
      "  Downloading regex-2023.12.25-cp311-cp311-win_amd64.whl.metadata (41 kB)\n",
      "     ---------------------------------------- 0.0/42.0 kB ? eta -:--:--\n",
      "     ---------------------------------------- 42.0/42.0 kB 2.1 MB/s eta 0:00:00\n",
      "Requirement already satisfied: requests in c:\\users\\fdmol\\desktop\\mscapp\\capp30255\\.venv\\lib\\site-packages (from transformers) (2.31.0)\n",
      "Collecting tokenizers<0.19,>=0.14 (from transformers)\n",
      "  Downloading tokenizers-0.15.1-cp311-none-win_amd64.whl.metadata (6.8 kB)\n",
      "Collecting safetensors>=0.4.1 (from transformers)\n",
      "  Downloading safetensors-0.4.2-cp311-none-win_amd64.whl.metadata (3.9 kB)\n",
      "Requirement already satisfied: tqdm>=4.27 in c:\\users\\fdmol\\desktop\\mscapp\\capp30255\\.venv\\lib\\site-packages (from transformers) (4.66.1)\n",
      "Collecting fsspec>=2023.5.0 (from huggingface-hub<1.0,>=0.19.3->transformers)\n",
      "  Downloading fsspec-2024.2.0-py3-none-any.whl.metadata (6.8 kB)\n",
      "Requirement already satisfied: typing-extensions>=3.7.4.3 in c:\\users\\fdmol\\desktop\\mscapp\\capp30255\\.venv\\lib\\site-packages (from huggingface-hub<1.0,>=0.19.3->transformers) (4.9.0)\n",
      "Requirement already satisfied: colorama in c:\\users\\fdmol\\desktop\\mscapp\\capp30255\\.venv\\lib\\site-packages (from tqdm>=4.27->transformers) (0.4.6)\n",
      "Requirement already satisfied: charset-normalizer<4,>=2 in c:\\users\\fdmol\\desktop\\mscapp\\capp30255\\.venv\\lib\\site-packages (from requests->transformers) (3.3.2)\n",
      "Requirement already satisfied: idna<4,>=2.5 in c:\\users\\fdmol\\desktop\\mscapp\\capp30255\\.venv\\lib\\site-packages (from requests->transformers) (3.6)\n",
      "Requirement already satisfied: urllib3<3,>=1.21.1 in c:\\users\\fdmol\\desktop\\mscapp\\capp30255\\.venv\\lib\\site-packages (from requests->transformers) (2.1.0)\n",
      "Requirement already satisfied: certifi>=2017.4.17 in c:\\users\\fdmol\\desktop\\mscapp\\capp30255\\.venv\\lib\\site-packages (from requests->transformers) (2023.11.17)\n",
      "Downloading transformers-4.37.2-py3-none-any.whl (8.4 MB)\n",
      "   ---------------------------------------- 0.0/8.4 MB ? eta -:--:--\n",
      "   - -------------------------------------- 0.4/8.4 MB 8.5 MB/s eta 0:00:01\n",
      "   ------ --------------------------------- 1.5/8.4 MB 15.5 MB/s eta 0:00:01\n",
      "   ------------ --------------------------- 2.5/8.4 MB 18.1 MB/s eta 0:00:01\n",
      "   --------------- ------------------------ 3.2/8.4 MB 16.8 MB/s eta 0:00:01\n",
      "   -------------------- ------------------- 4.3/8.4 MB 18.4 MB/s eta 0:00:01\n",
      "   -------------------------- ------------- 5.6/8.4 MB 19.8 MB/s eta 0:00:01\n",
      "   ----------------------------- ---------- 6.1/8.4 MB 18.6 MB/s eta 0:00:01\n",
      "   ----------------------------------- ---- 7.4/8.4 MB 19.7 MB/s eta 0:00:01\n",
      "   ---------------------------------------  8.4/8.4 MB 19.9 MB/s eta 0:00:01\n",
      "   ---------------------------------------  8.4/8.4 MB 19.9 MB/s eta 0:00:01\n",
      "   ---------------------------------------  8.4/8.4 MB 19.9 MB/s eta 0:00:01\n",
      "   ---------------------------------------- 8.4/8.4 MB 14.9 MB/s eta 0:00:00\n",
      "Downloading huggingface_hub-0.20.3-py3-none-any.whl (330 kB)\n",
      "   ---------------------------------------- 0.0/330.1 kB ? eta -:--:--\n",
      "   --------------------------------------- 330.1/330.1 kB 10.3 MB/s eta 0:00:00\n",
      "Downloading PyYAML-6.0.1-cp311-cp311-win_amd64.whl (144 kB)\n",
      "   ---------------------------------------- 0.0/144.7 kB ? eta -:--:--\n",
      "   ---------------------------------------- 144.7/144.7 kB 8.4 MB/s eta 0:00:00\n",
      "Downloading regex-2023.12.25-cp311-cp311-win_amd64.whl (269 kB)\n",
      "   ---------------------------------------- 0.0/269.5 kB ? eta -:--:--\n",
      "   --------------------------------------- 269.5/269.5 kB 17.3 MB/s eta 0:00:00\n",
      "Downloading safetensors-0.4.2-cp311-none-win_amd64.whl (269 kB)\n",
      "   ---------------------------------------- 0.0/269.6 kB ? eta -:--:--\n",
      "   --------------------------------------- 269.6/269.6 kB 16.2 MB/s eta 0:00:00\n",
      "Downloading tokenizers-0.15.1-cp311-none-win_amd64.whl (2.2 MB)\n",
      "   ---------------------------------------- 0.0/2.2 MB ? eta -:--:--\n",
      "   --------------- ------------------------ 0.9/2.2 MB 56.7 MB/s eta 0:00:01\n",
      "   ------------------------------ --------- 1.6/2.2 MB 20.9 MB/s eta 0:00:01\n",
      "   -------------------------------- ------- 1.8/2.2 MB 22.3 MB/s eta 0:00:01\n",
      "   ---------------------------------------  2.2/2.2 MB 15.5 MB/s eta 0:00:01\n",
      "   ---------------------------------------- 2.2/2.2 MB 11.6 MB/s eta 0:00:00\n",
      "Downloading fsspec-2024.2.0-py3-none-any.whl (170 kB)\n",
      "   ---------------------------------------- 0.0/170.9 kB ? eta -:--:--\n",
      "   --------------------------------------- 170.9/170.9 kB 10.0 MB/s eta 0:00:00\n",
      "Installing collected packages: safetensors, regex, pyyaml, fsspec, huggingface-hub, tokenizers, transformers\n",
      "Successfully installed fsspec-2024.2.0 huggingface-hub-0.20.3 pyyaml-6.0.1 regex-2023.12.25 safetensors-0.4.2 tokenizers-0.15.1 transformers-4.37.2\n"
     ]
    }
   ],
   "source": [
    "pip install transformers"
   ]
  },
  {
   "cell_type": "code",
   "execution_count": 22,
   "metadata": {},
   "outputs": [
    {
     "name": "stderr",
     "output_type": "stream",
     "text": [
      "c:\\Users\\fdmol\\Desktop\\MSCAPP\\CAPP30255\\.venv\\Lib\\site-packages\\tqdm\\auto.py:21: TqdmWarning: IProgress not found. Please update jupyter and ipywidgets. See https://ipywidgets.readthedocs.io/en/stable/user_install.html\n",
      "  from .autonotebook import tqdm as notebook_tqdm\n"
     ]
    }
   ],
   "source": [
    "import os\n",
    "import pandas as pd\n",
    "from transformers import AutoModelForSeq2SeqLM, AutoTokenizer\n"
   ]
  },
  {
   "cell_type": "markdown",
   "metadata": {},
   "source": [
    "### Parameters"
   ]
  },
  {
   "cell_type": "code",
   "execution_count": 34,
   "metadata": {},
   "outputs": [],
   "source": [
    "PATH = \"C:/Users/fdmol/Desktop/MSCAPP/CAPP30255/NLP-Police-Complaints/data/text_files\"\n",
    "CHARS_TO_REMOVE = [\"\\n\"]\n"
   ]
  },
  {
   "cell_type": "markdown",
   "metadata": {},
   "source": [
    "## Testing Approaches"
   ]
  },
  {
   "cell_type": "code",
   "execution_count": 41,
   "metadata": {},
   "outputs": [],
   "source": [
    "class TextParser:\n",
    "    CHARS_TO_REMOVE = CHARS_TO_REMOVE\n",
    "\n",
    "    def __init__(self, path):\n",
    "        self.path = path\n",
    "\n",
    "    def txt_to_list(self, filename):\n",
    "        \"\"\"\n",
    "        Add each line of a text file to a list\n",
    "        \"\"\"\n",
    "\n",
    "        file_path = os.path.join(self.path, filename)\n",
    "        lines = []\n",
    "        with open(file_path, \"r\", encoding=\"utf-8\") as f:\n",
    "            for line in f:\n",
    "                line = line.strip().split()\n",
    "                lines.append(line)\n",
    "\n",
    "        return lines\n",
    "\n",
    "    def file_to_string(self, filename):\n",
    "        \"\"\"\n",
    "        Add each line of a text file to a string\n",
    "        \"\"\"\n",
    "        text = \"\"\n",
    "        file_path = os.path.join(self.path, filename)\n",
    "        with open(file_path, \"r\", encoding=\"utf-8\") as f:\n",
    "            for line in f:\n",
    "                for char in self.CHARS_TO_REMOVE:\n",
    "                    line = line.replace(char, \"\")\n",
    "                text += line\n",
    "\n",
    "        return text\n"
   ]
  },
  {
   "cell_type": "markdown",
   "metadata": {},
   "source": [
    "##### I will use this model:\n",
    "\n",
    "https://huggingface.co/docs/transformers/main/en/model_doc/t5#transformers.T5ForConditionalGeneration"
   ]
  },
  {
   "cell_type": "code",
   "execution_count": 42,
   "metadata": {},
   "outputs": [],
   "source": [
    "model_name = \"Falconsai/text_summarization\"\n",
    "tokenizer = AutoTokenizer.from_pretrained(model_name)\n",
    "model = AutoModelForSeq2SeqLM.from_pretrained(model_name)\n"
   ]
  },
  {
   "cell_type": "code",
   "execution_count": 51,
   "metadata": {},
   "outputs": [
    {
     "data": {
      "text/plain": [
       "'CIVILIAN OFFICE OF POLICE ACCOUNTABILITY  LOG # 2019 -0000389  1  SUMMARY REPORT OF INVESTIGATION  I. EXECUTIVE SUMMARY     Date of Incident:  March 12, 2019  Time of Incident:  2:58 PM  Location of Incident:  12300 S. Harvard Avenue (Alley)  Date of COPA Notification:  March 13, 2019  Time of COPA Notification:  11:12 AM   Officer  and Officer  conducted a traffic stop of  on March 12, 2019, during which Officer asked Ms.  why she failed to stop at a stop sign.  Ms.   answered that it was because she needed to use the restroom at her residence.  Officer  ran Ms.  name and released her without issuing a traffic citation.  Ms.  made allegations that Officer  ordered her to get out of her vehicle and that he fondled her breasts and vagina during a protec tive pat down.  Ms.  allegations are unfounded by the body worn camera video of the traffic stop.   II. INVOLVED PARTIES   Involved Officer #1:  ; # ; Employee  # ; Date of Appointment : , 2015 ; Police Officer ; ; DOB :  , 1992 ; male ; Hispanic  Involved Officer #2:  ; # ; Employee # ; Date of Appointment: , 2015; Police Officer; ; DOB:  3, 1987; male; white  Involved Individual  #1: ; DOB: , 1992; female; Black   III. ALLEGATIONS   Officer  Allegation  Finding  / Recommendation  Officer  1. Stopped without justification   2. Inappropriately touched  while conducting pat down during a traffic stop.  3. Refused to provide name and badge   Exonerated  Unfounded    Unfounded   IV. APPLICABLE RULES AND LAWS   CIVILIAN OFFICE OF POLICE ACCOUNTABILITY  LOG # 2019 -0000389  2 Rules  Rule 2  - Any action or conduct which impedes the Department’s efforts to achieve its policy and goals or brings discredit upon the Department.  Rule 8 - Disrespect  to or maltreatment of any person, wh ile on or off duty.  Rule 37 - prohibits failure of a member, whether on or off duty, to correctly identify himself by giving his name, rank  and star number when so requested by other members of the Department or by a private citizen.   Federal Laws  United States Constitution, Amendment IV: Prohibits unlawfu l searches and seizures   V. INVESTIGATION   a. Interviews     provided a statement to COPA on  March 14, 20191, in which she stated that on March 12, 2019, she was driving on 122nd Street to go to the alley between Harvard and Eggleston .  Officers pulled over Ms.  and an officer, now known to be Police Officer   , # , exited his vehicle and asked for her license and registration .  Officer  asked Ms.  why she was going so fast and Ms.  replied that she was only going 20 miles per hour .  Officer  told Ms.  to exit her vehicle and Ms.  complied.  Officer told Ms.  to spread her arms and legs. Officer  patted her down and grabbed her  breasts and her vagina  on the  outside of  her clothing.  Ms.  stated that she was not wearing a bra at the time of the incident.   Ms. asked Officer  for his name and he refused to provide it while telling her tha t she could not have it and that she did not need it.  Officer  then told Ms.  that she should go about her business if she did not want more trouble.  Ms.  stated that she left at that point.  Ms.  stated that Officer   partner never exited their police vehicle.  Ms. stated that Officer  did not have a body worn camera active during the incident.   b. Digital Evidence   Body worn camera video from Police Officer 2 depicts Officer  exiting his vehicle and approaching Ms.  vehicle.  Officer  requests Ms. license and insurance card and asks her why she did not stop at a stop sign.  Ms.  replied that she was going home to use her bathroom.  Ms.  gave  Officer  her license and told him that her insurance card was on her phone.  Officer  went back to his vehicle and performed a name check on Ms. .  Officer  then went back to Ms. , returned her license, and told her to dri ve safely. At no time did Officer  touch Ms. , order her from the vehicle, or refuse to provide his name and star number.                                                              1 Attachment 6  2 Attachment 17   CIVILIAN OFFICE OF POLICE ACCOUNTABILITY  LOG # 2019 -0000389  3 Body worn camera video from Police Officer 3 depicts Officer  exiting his vehicle and approaching Ms.  vehicle after Officer  is already standing at Ms.  driver’s side door.  The officers return to their vehicle together  and then exit together but Officer  does not approach Ms.  vehicle again.  At no point does Officer  speak to or touch Ms. .  Ms.  remained in her vehicle for the duration of the video.    VI. LEGAL STANDARD   For each Allegation COPA must  make one of the following findings:   1. Sustained  - where it is determined the allegation is supported by a preponderance of the evidence;   2. Not Sustained  - where it is determined there is insufficient evidence to prove the allegations by a preponderance of  the evidence;   3. Unfounded  - where it is determined by clear and convincing evidence that an allegation is false or not factual; or   4. Exonerated  - where it is determined by clear and convincing evidence that the conduct descried in the allegation occu rred, but it is lawful and proper.   A preponderance of evidence  can be described as evidence indicating that it  is more likely than not  that the condu ct reviewed complied with Department policy. See Avery v. State Farm Mutual Automobile Insurance Co. , 216 Ill. 2d 100, 191 (2005) , (a proposition is proved by a preponderance of the evidence when it has found to be more probably true than not). If the evid ence gathered in an investigation establishes that it is more likely that the conduct complied with Department policy than that it did not, even if by a narrow margin, then the preponderance of the evidence standard is met.  Clear and convincing evidence  is a higher standard than a preponderance of the evidence but lower than the \"beyond -a-reasonable doubt\" standard required to convict a person of a criminal offense. See e.g., People v. Coan , 2016 I L App (2d) 151036 (2016). Clear and Convincing ca n be defined as a “degree of proof, which, considering all the evidence in the case, produces the firm and abiding belief that it is highly probable that the proposition . . . is true.”  Id. at ¶ 28.   VII. ANALYSIS   COPA finds the allegation  that Officer  stopped  without justification  is EXONERATED . Officer  body worn camera and statement provides clear and convincing evidence that , admitted ly, was speeding and ran a stop sign. Both violations warranted the officers to stop . Therefore, this allegation is EXONERATED.                                                              3 Attachment 18  CIVILIAN OFFICE OF POLICE ACCOUNTABILITY  LOG # 2019 -0000389  4 COPA finds that allegations that Officer  improperly touched  and refused to provide his name and badge number  UNFOUNDED.  The body worn camera provides clear and convincing evidence that  never ask ed for the officer’s badge number or name as she alleged.  was also never asked to exit her vehicle, nor was she touched or searched at any time. It is clear that Ms.  allegations of  misconduct are wholly fabricated.  Therefore, these allegations are UNFOU NDED.   VIII.  CONCLUSION   Based on the analysis set forth above, COPA makes the following findings:   Officer  Allegation  Finding  / Recommendation  Officer  1. Stopped without justification  2. Inappropriately touched  while conducting pat down during a traffic stop.  3. Refused to provide name and badge   Exonerated   Unfounded   Unfounded      Approved:     October 30, 2019  __________________________________  __________________________________  Andrea Kersten  Deputy Chief  Administrator – Chief Investigator   Date  CIVILIAN OFFICE OF POLICE ACCOUNTABILITY  LOG # 2019 -0000389  5 Appendix A   Assigned Investigative Staff   Squad#:   Investigator:   Supervising Investigator:   Deputy Chief Administrator:  Andrea Kersten      '"
      ]
     },
     "execution_count": 51,
     "metadata": {},
     "output_type": "execute_result"
    }
   ],
   "source": [
    "text_parser = TextParser(PATH)\n",
    "\n",
    "# Choose a complaint to summarize\n",
    "\n",
    "complaint_text = text_parser.file_to_string(\"2019-0000389.txt\")\n",
    "complaint_text\n"
   ]
  },
  {
   "cell_type": "code",
   "execution_count": 52,
   "metadata": {},
   "outputs": [],
   "source": [
    "# Tokenize the text\n",
    "inputs = tokenizer(\n",
    "    complaint_text, return_tensors=\"pt\", max_length=2048, truncation=True\n",
    ")\n",
    "\n",
    "# Generate summary\n",
    "summary_ids = model.generate(\n",
    "    inputs[\"input_ids\"],\n",
    "    max_length=1500,\n",
    "    min_length=40,\n",
    "    length_penalty=2.0,\n",
    "    num_beams=4,\n",
    "    early_stopping=True,\n",
    ")\n",
    "\n",
    "# Decode and print the summary\n",
    "summary = tokenizer.decode(summary_ids[0], skip_special_tokens=True)\n",
    "print(summary)\n"
   ]
  },
  {
   "cell_type": "code",
   "execution_count": 50,
   "metadata": {},
   "outputs": [
    {
     "data": {
      "text/plain": [
       "'CIVILIAN OFFICE OF POLICE ACCOUNTABILITY  LOG  #2019 -0000246   1 SUMMARY REPORT OF INVESTIGATION  I. EXECUTIVE SUMMARY     Date of Incident:  February 25, 2019  Time of Incident:  12:25 p.m.  Location of Incident:  4337 West Maypole Avenue  Date of COPA Notification:  March 20, 2019  Time of COPA Notification:  5:48 p.m.   On February 25, 2019, Officer  Eric Acevedo  (Officer Acevedo) , Officer Michael Donnelly  (Officer Donnelly)  and Officer Cody Maloney  (Officer Maloney)  attempted to stop  ( )  as he walked from his vehicle toward a house.  ran from the officers . Officer Acevedo and Officer Maloney apprehended  and escorted him back to where his vehicle was parked. Officers searched ’s vehicle and recovered narcotics.  was arrested and, after a physica l struggle, was placed into a police squad car. Officer Ronald Pendleton Jr. (Officer Pendleton) rode in the backseat of the squad car with  to the police station .     alleged the officers had no reason to stop him or search his vehicle, and Officer Pendleton choked him. The Civilian Office of Police Accountability (COPA) conducted a thorough investigation and determined the officers stopped  and searched his vehicle without justification, and Officer Pendleton did not choke .  II. INVO LVED PARTIES   Involved Officer #1:  Eric Acevedo , star # 13560 , employee  ID# ,  Date of Appointment : February 2, 2015 , PO, Unit 193, DOB : , 1978 , Male , White Hispanic  Involved Officer #2:  Michael Donnelly , star # 13784 , employee ID# ,  Date of Appointment : November 4, 2013 , PO, Unit 018, DOB : , 1988, Male , White  Involved Officer # 3: Cody M aloney , star # 13032 , employee ID# ,  Date of Appointment : February 23, 2015 , PO, Unit 180, DOB : , 1989 , Male , White  Involved Officer # 4: Ronald Pendleton , Jr., star # 11166 , employee ID# ,  Date of Appointment : November 16, 2017 , PO, Unit 002, DOB : , 1983 , Male , Black  Involved Officer # 5: Lawrence Eakels , star # 18217 , employee ID# ,  Date of Appointment : October 10, 2000 , PO/FTO , Unit DOB: , 1969'"
      ]
     },
     "execution_count": 50,
     "metadata": {},
     "output_type": "execute_result"
    }
   ],
   "source": [
    "complaint_text[:2048]"
   ]
  }
 ],
 "metadata": {
  "kernelspec": {
   "display_name": ".venv",
   "language": "python",
   "name": "python3"
  },
  "language_info": {
   "codemirror_mode": {
    "name": "ipython",
    "version": 3
   },
   "file_extension": ".py",
   "mimetype": "text/x-python",
   "name": "python",
   "nbconvert_exporter": "python",
   "pygments_lexer": "ipython3",
   "version": "3.11.3"
  }
 },
 "nbformat": 4,
 "nbformat_minor": 2
}

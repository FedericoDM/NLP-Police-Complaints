{
 "cells": [
  {
   "cell_type": "markdown",
   "metadata": {},
   "source": [
    "## Exploratory Analysis for Police Summary Reports"
   ]
  },
  {
   "cell_type": "markdown",
   "metadata": {},
   "source": [
    "### Packages"
   ]
  },
  {
   "cell_type": "code",
   "execution_count": 1,
   "metadata": {},
   "outputs": [],
   "source": [
    "# pip install transformers\n",
    "# !pip install nltk"
   ]
  },
  {
   "cell_type": "code",
   "execution_count": 2,
   "metadata": {},
   "outputs": [
    {
     "name": "stderr",
     "output_type": "stream",
     "text": [
      "c:\\Users\\fdmol\\AppData\\Local\\Programs\\Python\\Python39\\lib\\site-packages\\numpy\\_distributor_init.py:30: UserWarning: loaded more than 1 DLL from .libs:\n",
      "c:\\Users\\fdmol\\AppData\\Local\\Programs\\Python\\Python39\\lib\\site-packages\\numpy\\.libs\\libopenblas.WCDJNK7YVMPZQ2ME2ZZHJJRJ3JIKNDB7.gfortran-win_amd64.dll\n",
      "c:\\Users\\fdmol\\AppData\\Local\\Programs\\Python\\Python39\\lib\\site-packages\\numpy\\.libs\\libopenblas64__v0.3.23-246-g3d31191b-gcc_10_3_0.dll\n",
      "  warnings.warn(\"loaded more than 1 DLL from .libs:\"\n",
      "<ipython-input-2-05f293633492>:4: DeprecationWarning: \n",
      "Pyarrow will become a required dependency of pandas in the next major release of pandas (pandas 3.0),\n",
      "(to allow more performant data types, such as the Arrow string type, and better interoperability with other libraries)\n",
      "but was too old on your system - pyarrow 10.0.1 is the current minimum supported version as of this release.\n",
      "If this would cause problems for you,\n",
      "please provide us feedback at https://github.com/pandas-dev/pandas/issues/54466\n",
      "        \n",
      "  import pandas as pd\n",
      "[nltk_data] Downloading package stopwords to\n",
      "[nltk_data]     C:\\Users\\fdmol\\AppData\\Roaming\\nltk_data...\n",
      "[nltk_data]   Package stopwords is already up-to-date!\n",
      "[nltk_data] Downloading package wordnet to\n",
      "[nltk_data]     C:\\Users\\fdmol\\AppData\\Roaming\\nltk_data...\n",
      "[nltk_data]   Package wordnet is already up-to-date!\n"
     ]
    }
   ],
   "source": [
    "import os\n",
    "import random\n",
    "from transformers import AutoModelForSeq2SeqLM, AutoTokenizer\n",
    "import pandas as pd\n",
    "\n",
    "# Local imports\n",
    "from text_parser import TextParser"
   ]
  },
  {
   "cell_type": "markdown",
   "metadata": {},
   "source": [
    "### Parameters"
   ]
  },
  {
   "cell_type": "code",
   "execution_count": 3,
   "metadata": {},
   "outputs": [],
   "source": [
    "PATH = \"C:/Users/fdmol/Desktop/MSCAPP/CAPP30255/NLP-Police-Complaints/data/text_files\"\n",
    "DATA_PATH = \"C:/Users/fdmol/Desktop/MSCAPP/CAPP30255/NLP-Police-Complaints/data\""
   ]
  },
  {
   "cell_type": "markdown",
   "metadata": {},
   "source": [
    "#### Functions\n",
    "\n",
    "I define a class for reading and processing the data, I took some ideas from Matt's analysis to remove headers and other elements that are not relevant to us. This could also help in getting better results for the summarization task."
   ]
  },
  {
   "cell_type": "markdown",
   "metadata": {},
   "source": [
    "The function below wraps HuggingFace's tokenizer and model to generate a summary for each complaint. As I mention below, I tweaked the parameters to get better summaries."
   ]
  },
  {
   "cell_type": "code",
   "execution_count": 4,
   "metadata": {},
   "outputs": [],
   "source": [
    "class Summarizer:\n",
    "    \"\"\"\n",
    "    This class is in charge of summarizing a given text using\n",
    "    any Hugging Face model\n",
    "    \"\"\"\n",
    "\n",
    "    BART_INPUT_SIZE = 1024\n",
    "\n",
    "    def __init__(self, model_name: str, complaint_text: str, input_size: int = 2048):\n",
    "        self.model_name = model_name\n",
    "        self.complaint_text = complaint_text\n",
    "        self.input_size = input_size\n",
    "\n",
    "        self.model = AutoModelForSeq2SeqLM.from_pretrained(model_name)\n",
    "        self.tokenizer = AutoTokenizer.from_pretrained(model_name)\n",
    "\n",
    "        if self.model_name == \"facebook/bart-large-cnn\":\n",
    "            self.inputs = self.tokenizer(\n",
    "                self.complaint_text,\n",
    "                return_tensors=\"pt\",\n",
    "                max_length=self.BART_INPUT_SIZE,\n",
    "                truncation=True,\n",
    "            )\n",
    "\n",
    "        else:\n",
    "            self.inputs = self.tokenizer(\n",
    "                self.complaint_text,\n",
    "                return_tensors=\"pt\",\n",
    "                max_length=self.input_size,\n",
    "                truncation=True,\n",
    "            )\n",
    "\n",
    "    def generate_summary(\n",
    "        self,\n",
    "        max_length: int = 1200,\n",
    "        min_length: int = 40,\n",
    "        length_penalty: float = 2.0,\n",
    "        no_repeat_ngram_size: int = 2,\n",
    "        num_beams: int = 4,\n",
    "        early_stopping: bool = True,\n",
    "    ):\n",
    "        \"\"\"\n",
    "        This function will generate the summary\n",
    "        \"\"\"\n",
    "\n",
    "        # Generate summary\n",
    "        summary_ids = self.model.generate(\n",
    "            self.inputs[\"input_ids\"],\n",
    "            max_length=max_length,\n",
    "            min_length=min_length,\n",
    "            length_penalty=length_penalty,\n",
    "            no_repeat_ngram_size=no_repeat_ngram_size,\n",
    "            num_beams=num_beams,\n",
    "            early_stopping=early_stopping,\n",
    "        )\n",
    "\n",
    "        # Decode and print the summary\n",
    "        summary = self.tokenizer.decode(summary_ids[0], skip_special_tokens=True)\n",
    "\n",
    "        return summary"
   ]
  },
  {
   "cell_type": "markdown",
   "metadata": {},
   "source": [
    "#### Using default function to test out some models"
   ]
  },
  {
   "cell_type": "code",
   "execution_count": 5,
   "metadata": {},
   "outputs": [],
   "source": [
    "def generate_summary(complaint_text, model_name):\n",
    "    \"\"\"\n",
    "    Generates a summary of a complaint given\n",
    "    the complaint text\n",
    "    \"\"\"\n",
    "\n",
    "    tokenizer = AutoTokenizer.from_pretrained(model_name)\n",
    "    model = AutoModelForSeq2SeqLM.from_pretrained(model_name)\n",
    "\n",
    "    # Tokenize the text\n",
    "\n",
    "    if model_name == \"facebook/bart-large-cnn\":\n",
    "        inputs = tokenizer(\n",
    "            complaint_text, return_tensors=\"pt\", max_length=1024, truncation=True\n",
    "        )\n",
    "\n",
    "    else:\n",
    "        inputs = tokenizer(\n",
    "            complaint_text, return_tensors=\"pt\", max_length=2048, truncation=True\n",
    "        )\n",
    "\n",
    "    # Generate summary\n",
    "    summary_ids = model.generate(\n",
    "        inputs[\"input_ids\"],\n",
    "        max_length=1200,\n",
    "        min_length=40,\n",
    "        length_penalty=2.0,\n",
    "        no_repeat_ngram_size=2,\n",
    "        num_beams=4,\n",
    "        early_stopping=True,\n",
    "    )\n",
    "\n",
    "    # Decode and print the summary\n",
    "    summary = tokenizer.decode(summary_ids[0], skip_special_tokens=True)\n",
    "\n",
    "    return summary"
   ]
  },
  {
   "cell_type": "markdown",
   "metadata": {},
   "source": [
    "#### NLP Task: Summarization\n",
    "\n",
    "I will use the following models:\n",
    "\n",
    "- https://huggingface.co/docs/transformers/main/en/model_doc/t5#transformers.T5ForConditionalGeneration\n",
    "- https://huggingface.co/facebook/bart-large-cnn\n",
    "- https://huggingface.co/google/flan-t5-large\n",
    "\n",
    "\n",
    "In the cells below, I use the model to generate a summary for ten random complaints. The summaries are of medium quality, depending on each complaint. \n",
    "\n",
    "I did the following to try to improve the quality of the summaries:\n",
    "\n",
    "- Adjuster the `max_length` parameter to limit the length of the summary\n",
    "- Adjusted the `min_length` parameter to ensure the summary is at least a certain length\n",
    "- Adjusted the `num_beams` parameter to increase the number of beams used in beam search\n",
    "- Adjusted `no_repeat_ngram_size` parameter to avoid repeating n-grams in the summary\n",
    "\n",
    "I also experimented with the max_length of the tokens used in the tokenizer."
   ]
  },
  {
   "cell_type": "code",
   "execution_count": 6,
   "metadata": {},
   "outputs": [
    {
     "name": "stdout",
     "output_type": "stream",
     "text": [
      "Initializing parsers for summarization\n"
     ]
    }
   ],
   "source": [
    "model_name_falcon = \"Falconsai/text_summarization\"\n",
    "model_name_bart = \"facebook/bart-large-cnn\"\n",
    "model_name_flan = \"google/flan-t5-large\"\n",
    "\n",
    "text_parser = TextParser(PATH, nlp_task=\"summarization\")\n",
    "\n",
    "# Get a random list of 10 complaints\n",
    "complaints = os.listdir(PATH)\n",
    "complaints = [complaint for complaint in complaints if complaint.endswith(\".txt\")]\n",
    "sample_complaints = random.sample(complaints, 5)"
   ]
  },
  {
   "cell_type": "markdown",
   "metadata": {},
   "source": [
    "### Let us compare the three models to see which one is the best for our task.\n",
    "\n",
    "We will generate the summaries for 5 random complaints and compare the results."
   ]
  },
  {
   "cell_type": "code",
   "execution_count": 7,
   "metadata": {},
   "outputs": [
    {
     "name": "stdout",
     "output_type": "stream",
     "text": [
      "Model: Falconsai/text_summarization\n"
     ]
    },
    {
     "name": "stdout",
     "output_type": "stream",
     "text": [
      "Complaint: 1045950.txt\n",
      "=====================================\n",
      "Summary: [girlfriend of subject 1] informed officers c and d that she and herboyfriend, subject 1, became engaged in an altercation because subject1 left their children home alone to go drink with his friends. he repeatedly kicked and punched [daughter] about the head, face and body, causing minor swelling to her head. the incident occurred on 07 june 2011, at approximately 0142 hours, at xxxx s. honore street, chicago, police and ambulance personnel arrived.\n",
      "\n",
      "Model: facebook/bart-large-cnn\n",
      "Summary: Officer #1, “officer a’sinjuries: multiple gunshot wounds; shot seven (7) total times; fatal. Officer a, unit 007:1) violated department policy regarding the use of deadly force in that he shot thesubject, subject 1, without justification, in violation of chicago police departmentgeneral order 03.\n",
      "\n",
      "Model: google/flan-t5-large\n",
      "Summary: rd#ht/domestic battery, and detective case supplementary report, gt /u#11involved officer #1: “officer a” (chicago police officer); male/white; 38 years old; on-duty; full uniform; year of appointment – 2002office\n",
      "\n",
      "Model: Falconsai/text_summarization\n",
      "Complaint: 1071337.txt\n",
      "=====================================\n",
      "Summary: civilian 1 was parked at xxx w fullerton ave, chicago, il 60639 p.m. on september 2, 2014, while he was at his vender -cart. Officer b said, “you mexicans don’t have any driver’s licenses. none of you should be driving,” while speaking to civilian 1, iv. 5 rules 8 and 9 prohibit the use of any excessive force by any member. 3 this rule prohibits any\n",
      "\n",
      "Model: facebook/bart-large-cnn\n",
      "Summary: Civilian 1 worked at his vender -cart in xxx park when, at approximately 5:00p.m., chicago police officer s drove past. One of the officers quietly said, “fucking mexicans.” according to civilian 1. The same officers initiated a traffic stop on civilians 1 later that day. During the stop, civilian1 could not produce a valid driver’s license or proof of insurance.\n",
      "\n",
      "Model: google/flan-t5-large\n",
      "Summary: summary report of investigation1 time of incident: approximately 9:09 p.m. on september 2, 2014, civilian 1 (“civilian 1”) worked at his vender -cart in xxx park when, at approximately 5:00pm, chicago police officer s drove past civilian 1 while he was at the park\n",
      "\n",
      "Model: Falconsai/text_summarization\n",
      "Complaint: 2018-1091802.txt\n",
      "=====================================\n",
      "Summary: Officer stated that officer pushed and shoved her on multiple occasions during disagreements at their home, in violation of rules 1, 2, 8, & 9. officer said that on several occasions, officer struck officer about the face with his fists causing swelling and bruising, while staying at the in officer and officer engaged in a verba l argument in their hotel room, during the argument, he would get angry and push her to the floor. based on the totality of the evidence, copa finds that the\n",
      "\n",
      "Model: facebook/bart-large-cnn\n",
      "Summary: Officer #1: star # employee id# date of appointment : 2017 police officer, unit of assignment : 1987, male, hispanic involved officer #2:Star # employees id # date: 2015 police Officer, unit: 1987, female, Hispanic. allegations of abuse span from 2016 through 2018, copa did not make any findings on conduct which occurred prior to officer date. of appointments. officer alleged that during their relationship, officer pushed and shoved her on multiple occasions during disagreements at their home, some of which r esulted in injuries to Officer.\n",
      "\n",
      "Model: google/flan-t5-large\n",
      "Summary: officer had a history of ptsd, which was triggered when he consumed alcohol. while intoxicated, officer would sometimes “go away” and have flashbacks about being overseas. during violent episodes,\n",
      "\n",
      "Model: Falconsai/text_summarization\n",
      "Complaint: 2008-1020378.txt\n",
      "=====================================\n",
      "Summary: witness 1 tripped and fell on his knees when he heard two officers shouting for subject 1 to drop the knife. officer a then fired two shots at subj ect 1 and struck him in the left back and left upper arm, causing multiple fatal gunshot wounds to his left arm and right u p s r m. witnesses 1 was able to run away from witness 1, but was not injured during the incident (att. # 11). witness b contacted the officers and\n",
      "\n",
      "Model: facebook/bart-large-cnn\n",
      "Summary: Officer a and officer b responded to a radio request for a well-being check on the 7700 block of south kedzie ave. The request was made by a chaplain from christ hospital, via the oak lawn police department. It was later determined that the su bject of the request, subject 1, had told the chapla that he was contemplating taking his own life. When the officers arrived at the residence, they rang the bell several times. A male male exited the gangway and identified himself as “subject 1’s” roommate.\n",
      "\n",
      "Model: google/flan-t5-large\n",
      "Summary: officer a fired two shots at subject 1 in the left back and left upper arm in order to prevent him from stab ing witness 1 with the knife he was holding in his right hand\n",
      "\n",
      "Model: Falconsai/text_summarization\n",
      "Complaint: 2019-0003780.txt\n",
      "=====================================\n",
      "Summary: nan sannn aan. -nans!?..- mns y  ng : 'n.\n",
      "\n",
      "Model: facebook/bart-large-cnn\n",
      "Summary: nan.nan is a freelance writer and photographer. She is best known for her photographs of the South of France. Visit her website at www.nann.com and follow her on Twitter at @nannan Nan.\n",
      "\n",
      "Model: google/flan-t5-large\n",
      "Summary: nan ( ) is the name of several places in the Philippines: Nantuan, Nandao, and Nangay. The name Nan is derived from the Sanskrit word \"naan\" which means \"sea\" or \"water\".\n",
      "\n"
     ]
    }
   ],
   "source": [
    "for complaint in sample_complaints:\n",
    "    complaint_text = text_parser.file_to_string(complaint)\n",
    "    print(f\"Model: {model_name_falcon}\")\n",
    "    summary = generate_summary(complaint_text, model_name_falcon)\n",
    "    print(f\"Complaint: {complaint}\")\n",
    "    print(\"=====================================\")\n",
    "    print(f\"Summary: {summary}\\n\")\n",
    "\n",
    "    print(f\"Model: {model_name_bart}\")\n",
    "    summary = generate_summary(complaint_text, model_name_bart)\n",
    "    print(f\"Summary: {summary}\\n\")\n",
    "\n",
    "    print(f\"Model: {model_name_flan}\")\n",
    "    summary = generate_summary(complaint_text, model_name_flan)\n",
    "    print(f\"Summary: {summary}\\n\")"
   ]
  },
  {
   "cell_type": "markdown",
   "metadata": {},
   "source": [
    "We can see that the best performing models are BART Large by Facebook and the T5 FalconAI Model, we will use this model to generate the summaries for the entire dataset. The hyperparameters used are:\n",
    "\n",
    "``` Python\n",
    "max_length=1200,\n",
    "min_length=40,\n",
    "length_penalty=2.0,\n",
    "no_repeat_ngram_size=2,\n",
    "num_beams=4,\n",
    "early_stopping=True,\n",
    "```"
   ]
  },
  {
   "cell_type": "markdown",
   "metadata": {},
   "source": [
    "### Grid Search for Facebook BART model"
   ]
  },
  {
   "cell_type": "code",
   "execution_count": 9,
   "metadata": {},
   "outputs": [
    {
     "name": "stdout",
     "output_type": "stream",
     "text": [
      "Complaint: 2022-0000737.txt\n",
      "=====================================\n",
      " ============== No Repeat Ngram Size: 2 ============\n",
      "Num Beams: 3\n",
      "Summary: Officer ryan edwards, officer calla roulds, and officer adan pedroza jr. were on patrol in a marked chicago police department (cpd) vehicle in the area of 97th st. when they observed a hyundai tucson hatchback without a front license plate. The officers conducted a traffic stop of the vehicle at 9700 s harvard ave. An initial law enforcement agencies data system ( lead s) inquiry revealed the hy Hyundai’s registration to be expired since may 2020. He was then arrested and transported to the 5th district police s tation.\n",
      "\n",
      "Num Beams: 4\n",
      "Summary: Officer ryan edwards, star #19672, and officer adan pedroza jr. were on patrol in a marked chicago police department vehicle in the area of 97th st. when they observed a hyundai tucson hatchback without a front license plate. The officers conducted a traffic stop of the vehicle at 9700 s harvard ave. An initial law enforcement agencies data system ( lead s) inquiry revealed the hy Hyundai’s registration to be expired since may 2020. He was then arrested and transported to the 5th district police s tation.\n",
      "\n",
      "Num Beams: 5\n",
      "Summary: Officer ryan edwards, officer calla roulds, and officer adan pedroza jr. were on patrol in a marked chicago police department (cpd) vehicle in the area of 97th st. when they observed a hyundai tucson hatchback without a front license plate. The officers conducted a traffic stop of the vehicle at 9700 s harvard ave. An initial law enforcement agencies data system ( lead s) inquiry revealed the hy Hyundai’s registration to be expired since may 2020. He was then arrested and transported to the 5th district police s tation.\n",
      "\n",
      " ============== No Repeat Ngram Size: 3 ============\n",
      "Num Beams: 3\n",
      "Summary: Officer ryan edwards, officer calla roulds, and officer adan pedroza jr. were on patrol in a marked chicago police department (cpd) vehicle in the area of 97th st. when they observed a hyundai tucson hatchback without a front license plate. The officers conducted a traffic stop of the vehicle at 9700 s harvard ave. The driver, later identified as was then asked to exit the vehicle to verify his identity via leads. An investigation found that officer edwards’ utterance of a racial epithet, captured on body -worn camera, made in reference to the actual or perceived race of violated cpd rules and directives.\n",
      "\n",
      "Num Beams: 4\n",
      "Summary: Officer ryan edwards, star #19672, and officer adan pedroza jr. were on patrol in a marked chicago police department (cpd) vehicle in the area of 97th st. when they observed a hyundai tucson hatchback without a front license plate. The officers conducted a traffic stop of the vehicle at 9700 s harvard ave. The driver, later identified as was then asked to exit the vehicle to verify his identity via leads. An investigation found that officer edwards’ utterance of a racial epithet, captured on body -worn camera, made in reference to the actual or perceived race of violated cpd rules and directives.\n",
      "\n",
      "Num Beams: 5\n",
      "Summary: Officer ryan edwards, officer calla roulds, and officer adan pedroza jr. were on patrol in a marked chicago police department (cpd) vehicle in the area of 97th st. when they observed a hyundai tucson hatchback without a front license plate. The officers conducted a traffic stop of the vehicle at 9700 s harvard ave. The driver alleged that during the stop, officer edwards searched his hyundai without consent and called him a racial epithet. The investigation did not reveal sufficient objective, verifiable evidence of misconduct to proceed with allegations against any of the accused officers.\n",
      "\n",
      " ============== No Repeat Ngram Size: 4 ============\n",
      "Num Beams: 3\n",
      "Summary: Officer ryan edwards, officer calla roulds, and officer adan pedroza jr. were on patrol in a marked chicago police department (cpd) vehicle in the area of 97th st. when they observed a hyundai tucson hatchback without a front license plate. The officers conducted a traffic stop of the vehicle at 9700 s harvard ave. The driver, later identified as was then asked to exit the vehicle to verify his identity via leads. An investigation found that officer edwards’ utterance of a racial epithet, made in reference to the actual or perceived race of violated cpd rules and directives.\n",
      "\n",
      "Num Beams: 4\n",
      "Summary: Officer ryan edwards, star #19672, and officer adan pedroza jr. were on patrol in a marked chicago police department (cpd) vehicle in the area of 97th st. when they observed a hyundai tucson hatchback without a front license plate. The officers conducted a traffic stop of the vehicle at 9700 s harvard ave. The driver, later identified as was then asked to exit the vehicle to verify his identity via leads. An investigation found that officer edwards’ utterance of a racial epithet, captured on body -worn camera, made in reference to the actual or perceived race of violated cpd rules and directives.\n",
      "\n",
      "Num Beams: 5\n",
      "Summary: Officer ryan edwards, officer calla roulds, and officer adan pedroza jr. were on patrol in a marked chicago police department (cpd) vehicle in the area of 97th st. when they observed a hyundai tucson hatchback without a front license plate. The officers conducted a traffic stop of the vehicle at 9700 s harvard ave. The driver alleged that during the stop, officer edwards searched his hyundai without consent. He also alleged that officer edwards called him a racial epithet.\n",
      "\n"
     ]
    }
   ],
   "source": [
    "# We will now perform the same task using the Summarizer class, chaning some of the parameters\n",
    "no_repeat_ngram_sizes = [2, 3, 4]\n",
    "num_beams = [3, 4, 5]\n",
    "\n",
    "sample_complaints = random.sample(complaints, 1)\n",
    "\n",
    "for complaint in sample_complaints:\n",
    "    complaint_text = text_parser.file_to_string(complaint)\n",
    "    print(f\"Complaint: {complaint}\")\n",
    "    print(\"=====================================\")\n",
    "    for no_repeat_ngram_size in no_repeat_ngram_sizes:\n",
    "        print(\n",
    "            f\" ============== No Repeat Ngram Size: {no_repeat_ngram_size} ============\"\n",
    "        )\n",
    "        for num_beam in num_beams:\n",
    "            print(f\"Num Beams: {num_beam}\")\n",
    "            summary = Summarizer(model_name_bart, complaint_text).generate_summary(\n",
    "                max_length=1200,\n",
    "                min_length=40,\n",
    "                length_penalty=2,\n",
    "                no_repeat_ngram_size=no_repeat_ngram_size,\n",
    "                num_beams=num_beam,\n",
    "            )\n",
    "            print(f\"Summary: {summary}\\n\")"
   ]
  },
  {
   "cell_type": "markdown",
   "metadata": {},
   "source": [
    "### Grid Search for Falcon T5 model"
   ]
  },
  {
   "cell_type": "code",
   "execution_count": 10,
   "metadata": {},
   "outputs": [
    {
     "name": "stdout",
     "output_type": "stream",
     "text": [
      "Complaint: 2022-0000737.txt\n",
      "=====================================\n",
      " ============== No Repeat Ngram Size: 2 ============\n",
      "Num Beams: 3\n",
      "Summary: officer ryan edwards, star #19672, doa : february 28, 2022, at approximately 3:12 p.m. copa conducted a traffic stop of the vehicle at 9700 south harvard avenue, chicago, il 60628. Officer roulds said that while pedroza ran the driver’s name, she tried to run the name and license plate but was unable to get the car's identity - so they radio\n",
      "\n",
      "Num Beams: 4\n",
      "Summary: officer ryan edwards allegedly searched his hyundai without his consent. copa conducted a traffic stop of the vehicle at 9700 south harvard avenue, chicago, il 60628 p.m. Officer roulds explained that she tried to run the driver’s name and license plate but wasn’t able to get his name, so she ran the name instead of pedroza jr. he was arrested and transported to\n",
      "\n",
      "Num Beams: 5\n",
      "Summary: officer ryan edwards was arrested for various traffic offenses and a criminal arrest warrant from another jurisdiction. officer calla roulds said that on february 28, 2022, at approximately 3:12 p.m., on s harvard avenue, chicago, il 60628, copa’s investigation found that racial epithet was captured on body -worn camera, made in reference to the actual or perceived race of violated c\n",
      "\n",
      " ============== No Repeat Ngram Size: 3 ============\n",
      "Num Beams: 3\n",
      "Summary: officer ryan edwards, officer adan pedroza jr., doa : february 28, 2022, at approximately 3:12 p.m., at 9700 south harvard avenue, chicago, il 60628. officer roulds explained that she tried to run the driver’s name and license plate but was unable to get the driver's name. copa conducted a thorough and complete investigation based on initial\n",
      "\n",
      "Num Beams: 4\n",
      "Summary: officer ryan edwards, officer calla roulds, and officer adan pedroza jr. were on patrol in a marked chicago police department (cpd) vehicle. when they observed a hyundai tucson hatchback without a front license plate, the officers noticed that the driver’s license was suspended, so they radioed for transport. copa conducted a thorough and complete investigation based on initial\n",
      "\n",
      "Num Beams: 5\n",
      "Summary: officer ryan edwards, officer calla roulds, and officer adan pedroza jr. were on patrol in a marked chicago police department (cpd) vehicle. copa conducted a traffic stop of the vehicle at 9700 s harvard ave on february 28, 2022, at approximately 3:12 p.m.,.\n",
      "\n",
      " ============== No Repeat Ngram Size: 4 ============\n",
      "Num Beams: 3\n",
      "Summary: officer ryan edwards, officer adan pedroza jr., doa : february 28, 2022, at approximately 3:12 p.m., at 9700 south harvard avenue, chicago, il 60628. officer roulds explained that she tried to run the driver’s name and license plate but was unable to get his name. Officer pedroze ran the name instead. copa conducted a\n",
      "\n",
      "Num Beams: 4\n",
      "Summary: officer ryan edwards, officer calla roulds, and officer adan pedroza jr. were on patrol in a marked chicago police department (cpd) vehicle. copa conducted a traffic stop of the vehicle at 9700 south harvard avenue, chicago, il 60628 p m on february 28, 2022, at approximately 3:12 p.m. copa made multiple attempts to interview between march\n",
      "\n",
      "Num Beams: 5\n",
      "Summary: officer ryan edwards, officer calla roulds, and officer adan pedroza jr. were on patrol in a marked chicago police department (cpd) vehicle. copa conducted a traffic stop of the vehicle at 9700 south harvard avenue, chicago, il 60628 p m on february 28, 2022, at approximately 3:12 p.m. copa made multiple attempts to interview between march\n",
      "\n"
     ]
    }
   ],
   "source": [
    "for complaint in sample_complaints:\n",
    "    complaint_text = text_parser.file_to_string(complaint)\n",
    "    print(f\"Complaint: {complaint}\")\n",
    "    print(\"=====================================\")\n",
    "    for no_repeat_ngram_size in no_repeat_ngram_sizes:\n",
    "        print(\n",
    "            f\" ============== No Repeat Ngram Size: {no_repeat_ngram_size} ============\"\n",
    "        )\n",
    "        for num_beam in num_beams:\n",
    "            print(f\"Num Beams: {num_beam}\")\n",
    "            summary = Summarizer(model_name_falcon, complaint_text).generate_summary(\n",
    "                max_length=1200,\n",
    "                min_length=40,\n",
    "                length_penalty=2,\n",
    "                no_repeat_ngram_size=no_repeat_ngram_size,\n",
    "                num_beams=num_beam,\n",
    "            )\n",
    "            print(f\"Summary: {summary}\\n\")\n"
   ]
  },
  {
   "cell_type": "markdown",
   "metadata": {},
   "source": [
    "### Next Steps\n",
    "\n",
    "- Finetune models to improve the quality of the summaries\n",
    "- Probably cross reference the summaries with the topic modeling results to see if the summaries are coherent with the topics"
   ]
  },
  {
   "cell_type": "code",
   "execution_count": null,
   "metadata": {},
   "outputs": [],
   "source": [
    "# Random list of 25 complaints to summarize by hand\n",
    "complaints_to_summarize = random.sample(complaints, 25)\n",
    "complaints_to_summarize\n",
    "\n",
    "# Create a dataframe to store the results\n",
    "manual_summaries = pd.DataFrame([])\n",
    "manual_summaries.loc[:, \"complaint\"] = complaints_to_summarize\n",
    "manual_summaries.loc[:, \"manual_summary\"] = \"\"\n",
    "\n",
    "# Save the dataframe\n",
    "\n",
    "# manual_summaries.to_csv(f\"{DATA_PATH}/complaints_to_summarize.csv\", index=False)"
   ]
  }
 ],
 "metadata": {
  "kernelspec": {
   "display_name": ".venv",
   "language": "python",
   "name": "python3"
  },
  "language_info": {
   "codemirror_mode": {
    "name": "ipython",
    "version": 3
   },
   "file_extension": ".py",
   "mimetype": "text/x-python",
   "name": "python",
   "nbconvert_exporter": "python",
   "pygments_lexer": "ipython3",
   "version": "3.9.2"
  }
 },
 "nbformat": 4,
 "nbformat_minor": 2
}
